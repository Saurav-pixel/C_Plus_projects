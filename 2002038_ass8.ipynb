{
  "nbformat": 4,
  "nbformat_minor": 0,
  "metadata": {
    "colab": {
      "name": "2002038_ass8.ipynb",
      "provenance": [],
      "collapsed_sections": [],
      "authorship_tag": "ABX9TyN4vr2BVE3v+eaVvbVOHjPp"
    },
    "kernelspec": {
      "name": "python3",
      "display_name": "Python 3"
    },
    "language_info": {
      "name": "python"
    }
  },
  "cells": [
    {
      "cell_type": "code",
      "metadata": {
        "colab": {
          "base_uri": "https://localhost:8080/"
        },
        "id": "p4PDPFBbu-9H",
        "outputId": "ede41e65-b580-4393-b3c3-ca228805c086"
      },
      "source": [
        "from google.colab import drive\n",
        "drive.mount('/content/drive')"
      ],
      "execution_count": null,
      "outputs": [
        {
          "output_type": "stream",
          "text": [
            "Drive already mounted at /content/drive; to attempt to forcibly remount, call drive.mount(\"/content/drive\", force_remount=True).\n"
          ],
          "name": "stdout"
        }
      ]
    },
    {
      "cell_type": "markdown",
      "metadata": {
        "id": "q7WOsKzMusI0"
      },
      "source": [
        "Q.1 (a)"
      ]
    },
    {
      "cell_type": "code",
      "metadata": {
        "id": "EnF22FqYqH9H"
      },
      "source": [
        "import numpy as np\n",
        "import random\n",
        "import math\n",
        "import pandas as pd \n",
        "from sklearn.metrics import confusion_matrix, classification_report \n",
        "from sklearn.model_selection import train_test_split \n",
        "import matplotlib.pyplot as plt\n",
        "train = pd.read_csv('/content/drive/My Drive/Colab Notebooks/train.csv')\n",
        "test = pd.read_csv('/content/drive/My Drive/Colab Notebooks/test.csv')\n",
        "x1 = []\n",
        "y = []\n",
        "n = 100\n",
        "for i in range(n):\n",
        "    x1.append(random.uniform(0, 1))   \n",
        "for i in range(n):\n",
        "    noise = np.random.normal(scale= 0.3)\n",
        "#     print(noise)\n",
        "    temp = noise + math.sin(2*math.pi*x1[i])\n",
        "    y.append(temp) \n",
        "# for i in range(n):    \n",
        "#     print(\"(\", x1[i],\", \" ,y[i], \")\")\n",
        "train_error = []\n",
        "test_error = []"
      ],
      "execution_count": null,
      "outputs": []
    },
    {
      "cell_type": "markdown",
      "metadata": {
        "id": "NROqhNq3u5GO"
      },
      "source": [
        "Q1 (b)"
      ]
    },
    {
      "cell_type": "code",
      "metadata": {
        "colab": {
          "base_uri": "https://localhost:8080/"
        },
        "id": "7DD5ySSoqjZ6",
        "outputId": "f97ffa31-cae8-4df5-d76c-86e88ae2302f"
      },
      "source": [
        "x_train, x_test, y_train, y_test = train_test_split(x1,y,test_size = 0.2, random_state = 42)\n",
        "x2 = []\n",
        "x3 = []\n",
        "x4 = []\n",
        "x5 = []\n",
        "x6 = []\n",
        "x7 = []\n",
        "x8 = []\n",
        "x9 = []\n",
        "n1 = int(0.8*n)\n",
        "n2 = int(0.2*n)\n",
        "for i in range(n1):\n",
        "    x2.append(x_train[i]*x_train[i])\n",
        "    x3.append(x2[i]*x_train[i])\n",
        "    x4.append(x3[i]*x_train[i])\n",
        "    x5.append(x4[i]*x_train[i])\n",
        "    x6.append(x5[i]*x_train[i])\n",
        "    x7.append(x6[i]*x_train[i])\n",
        "    x8.append(x7[i]*x_train[i])\n",
        "    x9.append(x8[i]*x_train[i])\n",
        "    \n",
        "x2_test = []\n",
        "x3_test = []\n",
        "x4_test = []\n",
        "x5_test = []\n",
        "x6_test = []\n",
        "x7_test = []\n",
        "x8_test = []\n",
        "x9_test = []\n",
        "for i in range(n2):\n",
        "    x2_test.append(x_test[i]*x_test[i])\n",
        "    x3_test.append(x2_test[i]*x_test[i])\n",
        "    x4_test.append(x3_test[i]*x_test[i])\n",
        "    x5_test.append(x4_test[i]*x_test[i])\n",
        "    x6_test.append(x5_test[i]*x_test[i])\n",
        "    x7_test.append(x6_test[i]*x_test[i])\n",
        "    x8_test.append(x7_test[i]*x_test[i])\n",
        "    x9_test.append(x8_test[i]*x_test[i])\n",
        "\n",
        "print(x_train[0], x2[0], x3[0], x4[0], x5[0], x6[0])"
      ],
      "execution_count": null,
      "outputs": [
        {
          "output_type": "stream",
          "text": [
            "0.4420515987208833 0.19540961593168882 0.08638113312803683 0.038184917998570135 0.01687970404829376 0.007461700160483623\n"
          ],
          "name": "stdout"
        }
      ]
    },
    {
      "cell_type": "code",
      "metadata": {
        "id": "WM0t6Fh-qoF4"
      },
      "source": [
        "def cost_function(X, Y, B):\n",
        "    m = len(Y)\n",
        "    J = np.sum((X.dot(B) - Y) ** 2)/(2 * m)\n",
        "    return J\n",
        "def gradient_descent(X, Y, B, alpha, iterations):\n",
        "    cost_history = [0] * iterations\n",
        "    m = len(Y)\n",
        "    \n",
        "    for iteration in range(iterations):\n",
        "        # Hypothesis Values\n",
        "        h = X.dot(B)\n",
        "        # Difference b/w Hypothesis and Actual Y\n",
        "        loss = h - Y\n",
        "        # Gradient Calculation\n",
        "        gradient = X.T.dot(loss) / m\n",
        "        # Changing Values of B using Gradient\n",
        "        B = B - alpha * gradient\n",
        "        # New Cost Value\n",
        "        cost = cost_function(X, Y, B)\n",
        "        cost_history[iteration] = cost\n",
        "#         print(cost)\n",
        "        \n",
        "    return B, cost_history\n",
        "def parameterX_n(n):\n",
        "    m = len(x_train)\n",
        "    x0 = np.ones(m)\n",
        "    \n",
        "    m2 = len(x_test)\n",
        "    x0_test = np.ones(m2)\n",
        "    #Taking transpose of X matrix\n",
        "    # X = np.array([x0]).T\n",
        "    if n ==0:\n",
        "        X = np.array([x0]).T\n",
        "        B = np.array([0])\n",
        "        X_test = np.array([x0_test]).T\n",
        "    elif n==1:\n",
        "        X = np.array([x0, x_train]).T\n",
        "        B = np.array([0, 0])\n",
        "        X_test = np.array([x0_test, x_test]).T\n",
        "    elif n==2:\n",
        "        X = np.array([x0, x_train, x2]).T\n",
        "        B = np.array([0, 0, 0])\n",
        "        X_test = np.array([x0_test, x_test, x2_test]).T\n",
        "    elif n==3:\n",
        "        X = np.array([x0, x_train, x2, x3]).T\n",
        "        B = np.array([0, 0, 0, 0])\n",
        "        X_test = np.array([x0_test, x_test, x2_test, x3_test]).T\n",
        "    elif n==4:\n",
        "        X = np.array([x0, x_train, x2, x3, x4]).T\n",
        "        B = np.array([0, 0, 0, 0, 0])\n",
        "        X_test = np.array([x0_test, x_test, x2_test, x3_test, x4_test]).T\n",
        "    elif n==5:\n",
        "        X = np.array([x0, x_train, x2, x3, x4, x5]).T\n",
        "        B = np.array([0, 0, 0, 0, 0, 0])\n",
        "        X_test = np.array([x0_test, x_test, x2_test, x3_test, x4_test, x5_test]).T\n",
        "    elif n==6:\n",
        "        X = np.array([x0, x_train, x2, x3, x4, x5, x6]).T\n",
        "        B = np.array([0, 0, 0, 0, 0, 0, 0])\n",
        "        X_test = np.array([x0_test, x_test, x2_test, x3_test, x4_test, x5_test, x6_test]).T\n",
        "    elif n==7:\n",
        "        X = np.array([x0, x_train, x2, x3, x4, x5, x6, x7]).T\n",
        "        B = np.array([0, 0, 0, 0, 0, 0, 0, 0])\n",
        "        X_test = np.array([x0_test, x_test, x2_test, x3_test, x4_test, x5_test, x6_test, x7_test]).T\n",
        "    elif n==8:\n",
        "        X = np.array([x0, x_train, x2, x3, x4, x5, x6, x7, x8]).T\n",
        "        B = np.array([0, 0, 0, 0, 0, 0, 0, 0, 0])\n",
        "        X_test = np.array([x0_test, x_test, x2_test, x3_test, x4_test, x5_test, x6_test, x7_test, x8_test]).T\n",
        "    elif n==9:\n",
        "        X = np.array([x0, x_train, x2, x3, x4, x5, x6, x7, x8, x9]).T\n",
        "        B = np.array([0, 0, 0, 0, 0, 0, 0, 0, 0, 0])\n",
        "        X_test = np.array([x0_test, x_test, x2_test, x3_test, x4_test, x5_test, x6_test, x7_test, x8_test, x9_test]).T   \n",
        "    return X, B, X_test"
      ],
      "execution_count": null,
      "outputs": []
    },
    {
      "cell_type": "markdown",
      "metadata": {
        "id": "9HeqXT3RqvWv"
      },
      "source": [
        "Case 1: Curve fitting for N=0"
      ]
    },
    {
      "cell_type": "code",
      "metadata": {
        "colab": {
          "base_uri": "https://localhost:8080/",
          "height": 283
        },
        "id": "Ydb-r7ATq1gl",
        "outputId": "028b3245-f7e4-4436-e177-3de841f17f69"
      },
      "source": [
        "N = 0 \n",
        "X, B, X_test = parameterX_n(N)\n",
        "Y = y_train\n",
        "alpha = 0.1\n",
        "\n",
        "#Training and Training Error\n",
        "newB, cost_history = gradient_descent(X, Y, B, alpha, 100000)  # 100000 Iterations\n",
        "train_error.append(cost_history[-1])\n",
        "\n",
        "#Test Error\n",
        "test_error.append(cost_function(X_test, y_test, newB))\n",
        "\n",
        "#Learning Curve for Train Error\n",
        "time = []\n",
        "time_temp = 0\n",
        "for i in range(len(cost_history)):\n",
        "    time_temp += 1\n",
        "    time.append(time_temp)\n",
        "\n",
        "#Curve Fiting\n",
        "Y_hyp = []\n",
        "X_t = []\n",
        "x_temp = 0\n",
        "for i in range(5000):\n",
        "    x_temp += .0002\n",
        "    X_t.append(x_temp)\n",
        "    Y_hyp.append(newB[0])\n",
        "plt.scatter(x1,y)\n",
        "plt.plot(X_t,Y_hyp)\n",
        "plt.show()\n",
        "newB"
      ],
      "execution_count": null,
      "outputs": [
        {
          "output_type": "display_data",
          "data": {
            "image/png": "[encoded data removed]",
            "text/plain": [
              "<Figure size 432x288 with 1 Axes>"
            ]
          },
          "metadata": {
            "tags": [],
            "needs_background": "light"
          }
        },
        {
          "output_type": "execute_result",
          "data": {
            "text/plain": [
              "array([-0.02832751])"
            ]
          },
          "metadata": {
            "tags": []
          },
          "execution_count": 24
        }
      ]
    },
    {
      "cell_type": "markdown",
      "metadata": {
        "id": "KNusXEcQq-nF"
      },
      "source": [
        "Case 2: Curve fitting for N=1"
      ]
    },
    {
      "cell_type": "code",
      "metadata": {
        "colab": {
          "base_uri": "https://localhost:8080/",
          "height": 283
        },
        "id": "ZHOFkzHAq9lx",
        "outputId": "f9dca8bb-5964-428c-8bbc-54280c076d51"
      },
      "source": [
        "N = 1\n",
        "X, B, X_test = parameterX_n(N)\n",
        "Y = y_train\n",
        "alpha = 0.1\n",
        "\n",
        "#Training and Training Error\n",
        "newB, cost_history = gradient_descent(X, Y, B, alpha, 100000)  # 100000 Iterations\n",
        "train_error.append(cost_history[-1])\n",
        "\n",
        "#Test Error\n",
        "test_error.append(cost_function(X_test, y_test, newB))\n",
        "\n",
        "#Learning Curve for Train Error\n",
        "time = []\n",
        "time_temp = 0\n",
        "for i in range(len(cost_history)):\n",
        "    time_temp += 1\n",
        "    time.append(time_temp)\n",
        "\n",
        "Y_hyp = []\n",
        "X_t = []\n",
        "x_temp = 0\n",
        "for i in range(5000):\n",
        "    x_temp += .0002\n",
        "    X_t.append(x_temp)\n",
        "    Y_hyp.append(newB[0]+newB[1]*x_temp)\n",
        "plt.scatter(x1,y)\n",
        "plt.plot(X_t,Y_hyp)\n",
        "plt.show()\n",
        "newB"
      ],
      "execution_count": null,
      "outputs": [
        {
          "output_type": "display_data",
          "data": {
            "image/png": "[encoded data removed]",
            "text/plain": [
              "<Figure size 432x288 with 1 Axes>"
            ]
          },
          "metadata": {
            "tags": [],
            "needs_background": "light"
          }
        },
        {
          "output_type": "execute_result",
          "data": {
            "text/plain": [
              "array([ 1.10285845, -2.17951851])"
            ]
          },
          "metadata": {
            "tags": []
          },
          "execution_count": 25
        }
      ]
    },
    {
      "cell_type": "markdown",
      "metadata": {
        "id": "mgYXWHmcrM0z"
      },
      "source": [
        "Case 3: Curve fitting for N=2"
      ]
    },
    {
      "cell_type": "code",
      "metadata": {
        "colab": {
          "base_uri": "https://localhost:8080/",
          "height": 283
        },
        "id": "vTba6B7brIs3",
        "outputId": "1663a3ca-bcdb-4303-c016-30264f02deac"
      },
      "source": [
        "N = 2\n",
        "X, B, X_test = parameterX_n(N)\n",
        "Y = y_train\n",
        "alpha = 0.1\n",
        "\n",
        "#Training and Training Error\n",
        "newB, cost_history = gradient_descent(X, Y, B, alpha, 100000)  # 100000 Iterations\n",
        "train_error.append(cost_history[-1])\n",
        "\n",
        "#Test Error\n",
        "test_error.append(cost_function(X_test, y_test, newB))\n",
        "\n",
        "#Learning Curve for Train Error\n",
        "time = []\n",
        "time_temp = 0\n",
        "for i in range(len(cost_history)):\n",
        "    time_temp += 1\n",
        "    time.append(time_temp)\n",
        "Y_hyp = []\n",
        "X_t = []\n",
        "x_temp = 0\n",
        "for i in range(5000):\n",
        "    x_temp += .0002\n",
        "    X_t.append(x_temp)\n",
        "    Y_hyp.append(newB[0]+newB[1]*x_temp+newB[2]*((x_temp)**2))\n",
        "plt.scatter(x1,y)\n",
        "plt.plot(X_t,Y_hyp)\n",
        "plt.show()\n",
        "newB"
      ],
      "execution_count": null,
      "outputs": [
        {
          "output_type": "display_data",
          "data": {
            "image/png": "[encoded data removed]",
            "text/plain": [
              "<Figure size 432x288 with 1 Axes>"
            ]
          },
          "metadata": {
            "tags": [],
            "needs_background": "light"
          }
        },
        {
          "output_type": "execute_result",
          "data": {
            "text/plain": [
              "array([ 1.51960456, -4.24283295,  1.94895351])"
            ]
          },
          "metadata": {
            "tags": []
          },
          "execution_count": 26
        }
      ]
    },
    {
      "cell_type": "markdown",
      "metadata": {
        "id": "4UWuIs7VrZ6U"
      },
      "source": [
        "Case 4: Curve fitting for N=3"
      ]
    },
    {
      "cell_type": "code",
      "metadata": {
        "colab": {
          "base_uri": "https://localhost:8080/",
          "height": 283
        },
        "id": "GH0qUBrereA4",
        "outputId": "22c99b0c-135a-464e-c569-756a7460deb4"
      },
      "source": [
        "N = 3\n",
        "X, B, X_test = parameterX_n(N)\n",
        "Y = y_train\n",
        "alpha = 0.1\n",
        "\n",
        "#Training and Training Error\n",
        "newB, cost_history = gradient_descent(X, Y, B, alpha, 100000)  # 100000 Iterations\n",
        "train_error.append(cost_history[-1])\n",
        "\n",
        "#Test Error\n",
        "test_error.append(cost_function(X_test, y_test, newB))\n",
        "\n",
        "#Learning Curve for Train Error\n",
        "time = []\n",
        "time_temp = 0\n",
        "for i in range(len(cost_history)):\n",
        "    time_temp += 1\n",
        "    time.append(time_temp)\n",
        "Y_hyp = []\n",
        "X_t = []\n",
        "x_temp = 0\n",
        "for i in range(5000):\n",
        "    x_temp += .0002\n",
        "    X_t.append(x_temp)\n",
        "    Y_hyp.append(newB[0]+newB[1]*x_temp+newB[2]*((x_temp)**2))\n",
        "plt.scatter(x1,y)\n",
        "plt.plot(X_t,Y_hyp)\n",
        "plt.show()\n",
        "newB"
      ],
      "execution_count": null,
      "outputs": [
        {
          "output_type": "display_data",
          "data": {
            "image/png": "[encoded data removed]",
            "text/plain": [
              "<Figure size 432x288 with 1 Axes>"
            ]
          },
          "metadata": {
            "tags": [],
            "needs_background": "light"
          }
        },
        {
          "output_type": "execute_result",
          "data": {
            "text/plain": [
              "array([  0.6055817 ,   4.76828311, -19.25484384,  13.72607044])"
            ]
          },
          "metadata": {
            "tags": []
          },
          "execution_count": 27
        }
      ]
    },
    {
      "cell_type": "markdown",
      "metadata": {
        "id": "zMsMyQIBrlL8"
      },
      "source": [
        "Case 5: Curve fitting for N=4"
      ]
    },
    {
      "cell_type": "code",
      "metadata": {
        "colab": {
          "base_uri": "https://localhost:8080/",
          "height": 301
        },
        "id": "DETgKbOJrlzf",
        "outputId": "b342cb2a-d462-4dd0-8be0-9af79bcd5c3f"
      },
      "source": [
        "\n",
        "N = 4\n",
        "X, B, X_test = parameterX_n(N)\n",
        "Y = y_train\n",
        "alpha = 0.1\n",
        "\n",
        "#Training and Training Error\n",
        "newB, cost_history = gradient_descent(X, Y, B, alpha, 100000)  # 100000 Iterations\n",
        "train_error.append(cost_history[-1])\n",
        "\n",
        "updated_B = newB\n",
        "#Test Error\n",
        "test_error.append(cost_function(X_test, y_test, newB))\n",
        "\n",
        "#Learning Curve for Train Error\n",
        "time = []\n",
        "time_temp = 0\n",
        "for i in range(len(cost_history)):\n",
        "    time_temp += 1\n",
        "    time.append(time_temp)\n",
        "\n",
        "Y_hyp = []\n",
        "X_t = []\n",
        "x_temp = 0\n",
        "for i in range(5000):\n",
        "    x_temp += .0002\n",
        "    X_t.append(x_temp)\n",
        "    Y_hyp.append(newB[0]+newB[1]*x_temp+newB[2]*((x_temp)**2)+newB[3]*((x_temp)**3)+newB[4]*((x_temp)**4))\n",
        "plt.scatter(x1,y)\n",
        "plt.plot(X_t,Y_hyp)\n",
        "plt.show()\n",
        "newB"
      ],
      "execution_count": null,
      "outputs": [
        {
          "output_type": "display_data",
          "data": {
            "image/png": "[encoded data removed]",
            "text/plain": [
              "<Figure size 432x288 with 1 Axes>"
            ]
          },
          "metadata": {
            "tags": [],
            "needs_background": "light"
          }
        },
        {
          "output_type": "execute_result",
          "data": {
            "text/plain": [
              "array([  0.22219419,   6.44745319, -15.12193192,  -3.70380058,\n",
              "        12.43812077])"
            ]
          },
          "metadata": {
            "tags": []
          },
          "execution_count": 28
        }
      ]
    },
    {
      "cell_type": "markdown",
      "metadata": {
        "id": "hXahrYv3ruuy"
      },
      "source": [
        "Case 6: Curve fitting for N=5"
      ]
    },
    {
      "cell_type": "code",
      "metadata": {
        "colab": {
          "base_uri": "https://localhost:8080/",
          "height": 301
        },
        "id": "64fTcBuervvm",
        "outputId": "e9ff3ff8-bc84-490a-a022-9ba57fba0410"
      },
      "source": [
        "\n",
        "N = 5\n",
        "X, B, X_test = parameterX_n(N)\n",
        "Y = y_train\n",
        "alpha = 0.1\n",
        "\n",
        "#Training and Training Error\n",
        "newB, cost_history = gradient_descent(X, Y, B, alpha, 100000)  # 100000 Iterations\n",
        "train_error.append(cost_history[-1])\n",
        "\n",
        "#Test Error\n",
        "test_error.append(cost_function(X_test, y_test, newB))\n",
        "\n",
        "#Learning Curve for Train Error\n",
        "time = []\n",
        "time_temp = 0\n",
        "for i in range(len(cost_history)):\n",
        "    time_temp += 1\n",
        "    time.append(time_temp)\n",
        "\n",
        "Y_hyp = []\n",
        "X_t = []\n",
        "x_temp = 0\n",
        "for i in range(5000):\n",
        "    x_temp += .0002\n",
        "    X_t.append(x_temp)\n",
        "    Y_hyp.append(newB[0]+newB[1]*x_temp+newB[2]*((x_temp)**2)+newB[3]*((x_temp)**3)+newB[4]*((x_temp)**4)+newB[5]*((x_temp)**5))\n",
        "plt.scatter(x1,y)\n",
        "plt.plot(X_t,Y_hyp)\n",
        "plt.show()\n",
        "newB"
      ],
      "execution_count": null,
      "outputs": [
        {
          "output_type": "display_data",
          "data": {
            "image/png": "[encoded data removed]",
            "text/plain": [
              "<Figure size 432x288 with 1 Axes>"
            ]
          },
          "metadata": {
            "tags": [],
            "needs_background": "light"
          }
        },
        {
          "output_type": "execute_result",
          "data": {
            "text/plain": [
              "array([  0.30323331,   5.08550909, -10.79185251,  -4.37442917,\n",
              "         3.21505795,   6.98327398])"
            ]
          },
          "metadata": {
            "tags": []
          },
          "execution_count": 29
        }
      ]
    },
    {
      "cell_type": "markdown",
      "metadata": {
        "id": "si16-FbDr2tJ"
      },
      "source": [
        "Case 7: Curve fitting for N=6"
      ]
    },
    {
      "cell_type": "code",
      "metadata": {
        "colab": {
          "base_uri": "https://localhost:8080/",
          "height": 301
        },
        "id": "9cHFND3Tr7vI",
        "outputId": "b5b526c2-f44d-4485-8155-4d1055d8bc63"
      },
      "source": [
        "N = 6\n",
        "X, B, X_test = parameterX_n(N)\n",
        "Y = y_train\n",
        "alpha = 0.1\n",
        "\n",
        "#Training and Training Error\n",
        "newB, cost_history = gradient_descent(X, Y, B, alpha, 100000)  # 100000 Iterations\n",
        "train_error.append(cost_history[-1])\n",
        "\n",
        "#Test Error\n",
        "test_error.append(cost_function(X_test, y_test, newB))\n",
        "\n",
        "#Learning Curve for Train Error\n",
        "time = []\n",
        "time_temp = 0\n",
        "for i in range(len(cost_history)):\n",
        "    time_temp += 1\n",
        "    time.append(time_temp)\n",
        "Y_hyp = []\n",
        "X_t = []\n",
        "x_temp = 0\n",
        "for i in range(5000):\n",
        "    x_temp += .0002\n",
        "    X_t.append(x_temp)\n",
        "    Y_hyp.append(newB[0]+newB[1]*x_temp+newB[2]*((x_temp)**2)+newB[3]*((x_temp)**3)+newB[4]*((x_temp)**4)+newB[5]*((x_temp)**5)+newB[6]*((x_temp)**6))\n",
        "plt.scatter(x1,y)\n",
        "plt.plot(X_t,Y_hyp)\n",
        "plt.show()\n",
        "newB"
      ],
      "execution_count": null,
      "outputs": [
        {
          "output_type": "display_data",
          "data": {
            "image/png": "[encoded data removed]",
            "text/plain": [
              "<Figure size 432x288 with 1 Axes>"
            ]
          },
          "metadata": {
            "tags": [],
            "needs_background": "light"
          }
        },
        {
          "output_type": "execute_result",
          "data": {
            "text/plain": [
              "array([ 0.38922241,  4.3605185 , -9.70270218, -3.52269256,  2.45033702,\n",
              "        4.118088  ,  2.33920208])"
            ]
          },
          "metadata": {
            "tags": []
          },
          "execution_count": 30
        }
      ]
    },
    {
      "cell_type": "markdown",
      "metadata": {
        "id": "UeFTKv_tsA3u"
      },
      "source": [
        "Case 8: Curve fitting for N=7"
      ]
    },
    {
      "cell_type": "code",
      "metadata": {
        "colab": {
          "base_uri": "https://localhost:8080/",
          "height": 301
        },
        "id": "mV_9RJ03sFcH",
        "outputId": "99eb5078-c2f4-470b-f9aa-e16d1611e2bf"
      },
      "source": [
        "N = 7\n",
        "X, B, X_test = parameterX_n(N)\n",
        "Y = y_train\n",
        "alpha = 0.1\n",
        "\n",
        "#Training and Training Error\n",
        "newB, cost_history = gradient_descent(X, Y, B, alpha, 100000)  # 100000 Iterations\n",
        "train_error.append(cost_history[-1])\n",
        "\n",
        "#Test Error\n",
        "test_error.append(cost_function(X_test, y_test, newB))\n",
        "\n",
        "#Learning Curve for Train Error\n",
        "time = []\n",
        "time_temp = 0\n",
        "for i in range(len(cost_history)):\n",
        "    time_temp += 1\n",
        "    time.append(time_temp)\n",
        "Y_hyp = []\n",
        "X_t = []\n",
        "x_temp = 0\n",
        "for i in range(5000):\n",
        "    x_temp += .0002\n",
        "    X_t.append(x_temp)\n",
        "    Y_hyp.append(newB[0]+newB[1]*x_temp+newB[2]*((x_temp)**2)+newB[3]*((x_temp)**3)+newB[4]*((x_temp)**4)+newB[5]*((x_temp)**5)+newB[6]*((x_temp)**6)+newB[7]*((x_temp)**7))\n",
        "plt.scatter(x1,y)\n",
        "plt.plot(X_t,Y_hyp)\n",
        "plt.show()\n",
        "newB"
      ],
      "execution_count": null,
      "outputs": [
        {
          "output_type": "display_data",
          "data": {
            "image/png": "[encoded data removed]",
            "text/plain": [
              "<Figure size 432x288 with 1 Axes>"
            ]
          },
          "metadata": {
            "tags": [],
            "needs_background": "light"
          }
        },
        {
          "output_type": "execute_result",
          "data": {
            "text/plain": [
              "array([  0.40332245,   4.38353505, -10.01311689,  -3.49239181,\n",
              "         2.78286658,   4.57794092,   2.78580513,  -1.06297598])"
            ]
          },
          "metadata": {
            "tags": []
          },
          "execution_count": 31
        }
      ]
    },
    {
      "cell_type": "markdown",
      "metadata": {
        "id": "-m095zHcsLrE"
      },
      "source": [
        "Case 9 : Curve fitting for N=8"
      ]
    },
    {
      "cell_type": "code",
      "metadata": {
        "colab": {
          "base_uri": "https://localhost:8080/",
          "height": 319
        },
        "id": "tmr7y0mGsRlH",
        "outputId": "fadc30a4-0d5e-47f3-d4e8-d8b94bcccd51"
      },
      "source": [
        "\n",
        "\n",
        "N = 8\n",
        "X, B, X_test = parameterX_n(N)\n",
        "Y = y_train\n",
        "alpha = 0.1\n",
        "\n",
        "#Training and Training Error\n",
        "newB, cost_history = gradient_descent(X, Y, B, alpha, 100000)  # 100000 Iterations\n",
        "train_error.append(cost_history[-1])\n",
        "\n",
        "#Test Error\n",
        "test_error.append(cost_function(X_test, y_test, newB))\n",
        "\n",
        "#Learning Curve for Train Error\n",
        "time = []\n",
        "time_temp = 0\n",
        "for i in range(len(cost_history)):\n",
        "    time_temp += 1\n",
        "    time.append(time_temp)\n",
        "Y_hyp = []\n",
        "X_t = []\n",
        "x_temp = 0\n",
        "for i in range(5000):\n",
        "    x_temp += .0002\n",
        "    X_t.append(x_temp)\n",
        "    Y_hyp.append(newB[0]+newB[1]*x_temp+newB[2]*((x_temp)**2)+newB[3]*((x_temp)**3)+newB[4]*((x_temp)**4)+newB[5]*((x_temp)**5)+newB[6]*((x_temp)**6)+newB[7]*((x_temp)**7)+newB[8]*((x_temp)**8))\n",
        "plt.scatter(x1,y)\n",
        "plt.plot(X_t,Y_hyp)\n",
        "plt.show()\n",
        "newB"
      ],
      "execution_count": null,
      "outputs": [
        {
          "output_type": "display_data",
          "data": {
            "image/png": "[encoded data removed]",
            "text/plain": [
              "<Figure size 432x288 with 1 Axes>"
            ]
          },
          "metadata": {
            "tags": [],
            "needs_background": "light"
          }
        },
        {
          "output_type": "execute_result",
          "data": {
            "text/plain": [
              "array([  0.37068607,   4.74140284, -10.56482785,  -4.03494668,\n",
              "         2.76134043,   5.24587473,   4.14001593,   0.90300407,\n",
              "        -3.32717957])"
            ]
          },
          "metadata": {
            "tags": []
          },
          "execution_count": 32
        }
      ]
    },
    {
      "cell_type": "markdown",
      "metadata": {
        "id": "wk8hB8gqsZX1"
      },
      "source": [
        "Case 10: Curve fitting for N=9\n",
        "\n"
      ]
    },
    {
      "cell_type": "code",
      "metadata": {
        "colab": {
          "base_uri": "https://localhost:8080/",
          "height": 319
        },
        "id": "1PHDE4GMsY4K",
        "outputId": "96a5a06d-2809-4f64-f3f1-f64e631a0e64"
      },
      "source": [
        "N = 9\n",
        "X, B, X_test = parameterX_n(N)\n",
        "Y = y_train\n",
        "alpha = 0.1\n",
        "\n",
        "#Training and Training Error\n",
        "newB, cost_history = gradient_descent(X, Y, B, alpha, 100000)  # 100000 Iterations\n",
        "train_error.append(cost_history[-1])\n",
        "\n",
        "#Test Error\n",
        "test_error.append(cost_function(X_test, y_test, newB))\n",
        "\n",
        "#Learning Curve for Train Error\n",
        "time = []\n",
        "time_temp = 0\n",
        "for i in range(len(cost_history)):\n",
        "    time_temp += 1\n",
        "    time.append(time_temp)\n",
        "\n",
        "Y_hyp = []\n",
        "X_t = []\n",
        "x_temp = 0\n",
        "for i in range(5000):\n",
        "    x_temp += .0002\n",
        "    X_t.append(x_temp)\n",
        "    Y_hyp.append(newB[0]+newB[1]*x_temp+newB[2]*((x_temp)**2)+newB[3]*((x_temp)**3)+newB[4]*((x_temp)**4)+newB[5]*((x_temp)**5)+newB[6]*((x_temp)**6)+newB[7]*((x_temp)**7)+newB[8]*((x_temp)**8)+newB[9]*((x_temp)**9))\n",
        "plt.scatter(x1,y)\n",
        "plt.plot(X_t,Y_hyp)\n",
        "plt.show()\n",
        "newB"
      ],
      "execution_count": null,
      "outputs": [
        {
          "output_type": "display_data",
          "data": {
            "image/png": "[encoded data removed]",
            "text/plain": [
              "<Figure size 432x288 with 1 Axes>"
            ]
          },
          "metadata": {
            "tags": [],
            "needs_background": "light"
          }
        },
        {
          "output_type": "execute_result",
          "data": {
            "text/plain": [
              "array([  0.32113672,   5.14127105, -10.90790651,  -4.72161864,\n",
              "         2.33752814,   5.45503136,   5.1346277 ,   2.70055959,\n",
              "        -0.78031758,  -4.61662723])"
            ]
          },
          "metadata": {
            "tags": []
          },
          "execution_count": 33
        }
      ]
    },
    {
      "cell_type": "markdown",
      "metadata": {
        "id": "dbCVLW5XspX4"
      },
      "source": [
        "Train and Test Error"
      ]
    },
    {
      "cell_type": "code",
      "metadata": {
        "colab": {
          "base_uri": "https://localhost:8080/",
          "height": 295
        },
        "id": "snmk1v6HsrrX",
        "outputId": "9d3d2ba7-d80f-4f34-a20e-f19a29c8b577"
      },
      "source": [
        "X_N = [0,1,2,3,4,5,6,7,8,9]\n",
        "plt.plot(X_N,train_error, 'r', label='Train Error')\n",
        "plt.plot(X_N,test_error, 'b', label='Test Error')\n",
        "plt.title('Train Error vs Test Error')\n",
        "plt.ylabel('Error')\n",
        "plt.xlabel('N')\n",
        "plt.legend()\n",
        "plt.grid()\n",
        "plt.xticks(np.arange(0, 10, step=1))\n",
        "plt.show()"
      ],
      "execution_count": null,
      "outputs": [
        {
          "output_type": "display_data",
          "data": {
            "image/png": "[encoded data removed]",
            "text/plain": [
              "<Figure size 432x288 with 1 Axes>"
            ]
          },
          "metadata": {
            "tags": [],
            "needs_background": "light"
          }
        }
      ]
    },
    {
      "cell_type": "markdown",
      "metadata": {
        "id": "F8aGZUQesz_7"
      },
      "source": [
        "Q.2 "
      ]
    },
    {
      "cell_type": "code",
      "metadata": {
        "id": "OUzc2OaVs2ZD"
      },
      "source": [
        "X_train = train['Feature']\n",
        "y_train = np.array(train[' Label'])\n",
        "X_test = test['Feature']\n",
        "y_test = np.array(test[' Label'])\n",
        "def hypothesis_function(x_temp, theta):\n",
        "    h = np.matmul(x_temp, theta)\n",
        "    return h\n",
        "\n",
        "def grad_cost_function(x_train, y_train, theta, k):\n",
        "    m = len(y_train)\n",
        "    h = hypothesis_function(x_train, theta)\n",
        "    grad_cost = np.array([np.sum((h - y_train)*x_train[:, i])*(1/m) for i in range(k+1)])\n",
        "    return grad_cost\n",
        "\n",
        "def gradient_descent(x_train, y_train, alpha, N, theta, k):\n",
        "    for _ in range(N):\n",
        "        grad_cost = grad_cost_function(x_train, y_train, theta, k)\n",
        "        temp = alpha * grad_cost\n",
        "        theta = theta - temp\n",
        "    return theta\n",
        "\n",
        "def predict_train(x_train, y_train, alpha, N, k):\n",
        "    \n",
        "    theta = np.array([0 for i in range(k+1)])\n",
        "    theta = gradient_descent(x_train, y_train, alpha, N, theta, k)\n",
        "    y_train_predicted = hypothesis_function(x_train, theta)\n",
        "    return y_train_predicted\n",
        "\n",
        "def predict_test(X_train, y_train, X_test, alpha, N, k):\n",
        "    x_train = np.array([X_train**i for i in range(k+1)]).T\n",
        "    x_test = np.array([X_test**i for i in range(k+1)]).T\n",
        "    theta = np.array([0 for i in range(k+1)])\n",
        "    theta_trained = gradient_descent(x_train, y_train, alpha, N, theta, k)\n",
        "    y_test_pred = hypothesis_function(x_test, theta_trained)\n",
        "    return y_test_pred\n",
        "\n",
        "def squared_error(X_train, X_test, y_train, y_test, alpha, N, k):\n",
        "    x_train = np.array([X_train**i for i in range(k+1)]).T\n",
        "    x_test = np.array([X_test**i for i in range(k+1)]).T\n",
        "    theta = np.array([0 for i in range(k+1)])\n",
        "    theta = gradient_descent(x_train, y_train, alpha, N, theta, k)\n",
        "    h_train = hypothesis_function(x_train, theta)\n",
        "    m_train = len(y_train)\n",
        "    J_train = (1/(2*m_train)) * np.sum((h_train - y_train)**2)\n",
        "    h_test = hypothesis_function(x_test, theta)\n",
        "    m_test = len(y_test)\n",
        "    J_test = (1/(2*m_test)) * np.sum((h_test - y_test)**2)\n",
        "    return (J_train, J_test)\n",
        "    \n",
        "def plot_train(X_train, y_train, alpha, N, k):\n",
        "    x_train = np.array([X_train**i for i in range(k+1)]).T\n",
        "    plt.scatter(X_train, y_train, label = 'Real values')\n",
        "    plt.scatter(X_train, predict_train(x_train, y_train, alpha, N, k), label = 'Predicted Values')\n",
        "    plt.legend()\n",
        "    \n",
        "def plot_test(X_train, y_train, X_test, y_test, alpha, N, k):    \n",
        "    plt.scatter(X_test, y_test, label = 'Real values')\n",
        "    y_pred = predict_test(X_train, y_train, X_test, alpha, N, k)\n",
        "    plt.scatter(X_test, y_pred, label = 'Predicted values')\n",
        "    plt.legend()\n",
        "\n",
        "training_errors = []\n",
        "no_of_iterations = []\n",
        "for N in range(10000, 500000, 100000):\n",
        "    training_errors.append(squared_error(X_train, X_test, y_train, y_test, 0.05, N, 4)[0])\n",
        "    no_of_iterations.append(N)"
      ],
      "execution_count": null,
      "outputs": []
    },
    {
      "cell_type": "code",
      "metadata": {
        "colab": {
          "base_uri": "https://localhost:8080/",
          "height": 297
        },
        "id": "frg3fyjfs7sI",
        "outputId": "59e47d3b-4656-47f4-e527-26e1f8e5fe1d"
      },
      "source": [
        "plt.plot(no_of_iterations, training_errors)\n",
        "plt.xlabel(\"No. of iterations\")\n",
        "plt.ylabel(\"Training_error\")"
      ],
      "execution_count": null,
      "outputs": [
        {
          "output_type": "execute_result",
          "data": {
            "text/plain": [
              "Text(0, 0.5, 'Training_error')"
            ]
          },
          "metadata": {
            "tags": []
          },
          "execution_count": 36
        },
        {
          "output_type": "display_data",
          "data": {
            "image/png": "[encoded data removed]",
            "text/plain": [
              "<Figure size 432x288 with 1 Axes>"
            ]
          },
          "metadata": {
            "tags": [],
            "needs_background": "light"
          }
        }
      ]
    },
    {
      "cell_type": "code",
      "metadata": {
        "colab": {
          "base_uri": "https://localhost:8080/"
        },
        "id": "6UVYGOJEs_mB",
        "outputId": "d80f201c-834f-462b-f5ee-088ba2a82d92"
      },
      "source": [
        "\n",
        "for i in range(1, 10):\n",
        "    x_train = np.array([X_train**j for j in range(i+1)]).T\n",
        "    x_test = np.array([X_test**j for j in range(i+1)]).T\n",
        "    theta = np.array([0 for j in range(i+1)])\n",
        "    weight = gradient_descent(x_train, y_train, 0.05, 100000, theta, i)\n",
        "    print(\"Weights for \" + str(i) + \" degree polynomial = \" + str(weight))"
      ],
      "execution_count": null,
      "outputs": [
        {
          "output_type": "stream",
          "text": [
            "Weights for 1 degree polynomial = [ 0.91925226 -1.86080448]\n",
            "Weights for 2 degree polynomial = [ 0.9950247  -2.32144019  0.45585199]\n",
            "Weights for 3 degree polynomial = [  0.59529639   2.98713202 -13.40161076   9.4665165 ]\n",
            "Weights for 4 degree polynomial = [  0.26400082   5.48822207 -12.93311948  -3.42731985  10.7813582 ]\n",
            "Weights for 5 degree polynomial = [ 0.22457854  5.10172042 -9.69461225 -5.0229042   2.24173032  7.5869297 ]\n",
            "Weights for 6 degree polynomial = [ 0.28197445  4.32219686 -8.01484017 -4.23256807  0.71164404  3.43519119\n",
            "  4.01448507]\n",
            "Weights for 7 degree polynomial = [ 0.32251275  3.9756493  -7.677343   -3.74190306  0.82640802  2.90372354\n",
            "  2.74764342  1.1477701 ]\n",
            "Weights for 8 degree polynomial = [ 0.32976753  4.00343613 -7.89791762 -3.78332969  0.98406186  3.18525153\n",
            "  3.07922845  1.47603503 -0.94478712]\n",
            "Weights for 9 degree polynomial = [ 0.31443435  4.21152379 -8.20391593 -4.11524032  0.88155064  3.40386001\n",
            "  3.63163188  2.34044688  0.19682591 -2.34058817]\n"
          ],
          "name": "stdout"
        }
      ]
    },
    {
      "cell_type": "code",
      "metadata": {
        "colab": {
          "base_uri": "https://localhost:8080/",
          "height": 313
        },
        "id": "7Uj8vJTTtCRk",
        "outputId": "bb5f83be-c5b2-4930-c31a-2b9227d7bb03"
      },
      "source": [
        "plot_train(X_train, y_train, 0.05, 100000, 1)\n",
        "plt.title('Fitted curve for 1st degree polynomial')\n",
        "plt.xlabel('Feature')\n",
        "plt.ylabel('Label')"
      ],
      "execution_count": null,
      "outputs": [
        {
          "output_type": "execute_result",
          "data": {
            "text/plain": [
              "Text(0, 0.5, 'Label')"
            ]
          },
          "metadata": {
            "tags": []
          },
          "execution_count": 38
        },
        {
          "output_type": "display_data",
          "data": {
            "image/png": "[encoded data removed]",
            "text/plain": [
              "<Figure size 432x288 with 1 Axes>"
            ]
          },
          "metadata": {
            "tags": [],
            "needs_background": "light"
          }
        }
      ]
    },
    {
      "cell_type": "code",
      "metadata": {
        "colab": {
          "base_uri": "https://localhost:8080/",
          "height": 313
        },
        "id": "7aqWy8-ktF-7",
        "outputId": "6efab716-5006-4720-d702-cca81a326518"
      },
      "source": [
        "plot_train(X_train, y_train, 0.05, 100000, 2)\n",
        "plt.title('Fitted curve for 2nd degree polynomial')\n",
        "plt.xlabel('Feature')\n",
        "plt.ylabel('Label')"
      ],
      "execution_count": null,
      "outputs": [
        {
          "output_type": "execute_result",
          "data": {
            "text/plain": [
              "Text(0, 0.5, 'Label')"
            ]
          },
          "metadata": {
            "tags": []
          },
          "execution_count": 39
        },
        {
          "output_type": "display_data",
          "data": {
            "image/png": "[encoded data removed]",
            "text/plain": [
              "<Figure size 432x288 with 1 Axes>"
            ]
          },
          "metadata": {
            "tags": [],
            "needs_background": "light"
          }
        }
      ]
    },
    {
      "cell_type": "code",
      "metadata": {
        "colab": {
          "base_uri": "https://localhost:8080/",
          "height": 313
        },
        "id": "NF3m-43KtJL5",
        "outputId": "b100a4d3-d71b-49b8-994a-2ff03406368b"
      },
      "source": [
        "plot_train(X_train, y_train, 0.05, 100000, 3)\n",
        "plt.title('Fitted curve for 3rd degree polynomial')\n",
        "plt.xlabel('Feature')\n",
        "plt.ylabel('Label')"
      ],
      "execution_count": null,
      "outputs": [
        {
          "output_type": "execute_result",
          "data": {
            "text/plain": [
              "Text(0, 0.5, 'Label')"
            ]
          },
          "metadata": {
            "tags": []
          },
          "execution_count": 40
        },
        {
          "output_type": "display_data",
          "data": {
            "image/png": "[encoded data removed]",
            "text/plain": [
              "<Figure size 432x288 with 1 Axes>"
            ]
          },
          "metadata": {
            "tags": [],
            "needs_background": "light"
          }
        }
      ]
    },
    {
      "cell_type": "code",
      "metadata": {
        "colab": {
          "base_uri": "https://localhost:8080/",
          "height": 313
        },
        "id": "SRThlnfxtNB-",
        "outputId": "3316df8e-f830-4d77-f248-8e6e5806e029"
      },
      "source": [
        "\n",
        "plot_train(X_train, y_train, 0.05, 100000, 4)\n",
        "plt.title('Fitted curve for 4th degree polynomial')\n",
        "plt.xlabel('Feature')\n",
        "plt.ylabel('Label')"
      ],
      "execution_count": null,
      "outputs": [
        {
          "output_type": "execute_result",
          "data": {
            "text/plain": [
              "Text(0, 0.5, 'Label')"
            ]
          },
          "metadata": {
            "tags": []
          },
          "execution_count": 41
        },
        {
          "output_type": "display_data",
          "data": {
            "image/png": "[encoded data removed]",
            "text/plain": [
              "<Figure size 432x288 with 1 Axes>"
            ]
          },
          "metadata": {
            "tags": [],
            "needs_background": "light"
          }
        }
      ]
    },
    {
      "cell_type": "code",
      "metadata": {
        "colab": {
          "base_uri": "https://localhost:8080/",
          "height": 313
        },
        "id": "EiCfqYVXtRkF",
        "outputId": "8f02fc29-18a3-4e04-e8ba-2273605ac2ca"
      },
      "source": [
        "plot_train(X_train, y_train, 0.05, 100000, 5)\n",
        "plt.title('Fitted curve for 5th degree polynomial')\n",
        "plt.xlabel('Feature')\n",
        "plt.ylabel('Label')"
      ],
      "execution_count": null,
      "outputs": [
        {
          "output_type": "execute_result",
          "data": {
            "text/plain": [
              "Text(0, 0.5, 'Label')"
            ]
          },
          "metadata": {
            "tags": []
          },
          "execution_count": 42
        },
        {
          "output_type": "display_data",
          "data": {
            "image/png": "[encoded data removed]",
            "text/plain": [
              "<Figure size 432x288 with 1 Axes>"
            ]
          },
          "metadata": {
            "tags": [],
            "needs_background": "light"
          }
        }
      ]
    },
    {
      "cell_type": "code",
      "metadata": {
        "colab": {
          "base_uri": "https://localhost:8080/",
          "height": 313
        },
        "id": "HSXtS8JbtU-b",
        "outputId": "194ebe01-2be5-4d60-9f12-547379d5fa88"
      },
      "source": [
        "plot_train(X_train, y_train, 0.05, 100000, 6)\n",
        "plt.title('Fitted curve for 6th degree polynomial')\n",
        "plt.xlabel('Feature')\n",
        "plt.ylabel('Label')"
      ],
      "execution_count": null,
      "outputs": [
        {
          "output_type": "execute_result",
          "data": {
            "text/plain": [
              "Text(0, 0.5, 'Label')"
            ]
          },
          "metadata": {
            "tags": []
          },
          "execution_count": 43
        },
        {
          "output_type": "display_data",
          "data": {
            "image/png": "[encoded data removed]",
            "text/plain": [
              "<Figure size 432x288 with 1 Axes>"
            ]
          },
          "metadata": {
            "tags": [],
            "needs_background": "light"
          }
        }
      ]
    },
    {
      "cell_type": "code",
      "metadata": {
        "colab": {
          "base_uri": "https://localhost:8080/",
          "height": 313
        },
        "id": "H09IeHd1tZzP",
        "outputId": "42e3de0e-5dc6-4051-c71a-aa148cf5456e"
      },
      "source": [
        "plot_train(X_train, y_train, 0.05, 100000, 7)\n",
        "plt.title('Fitted curve for 7th degree polynomial')\n",
        "plt.xlabel('Feature')\n",
        "plt.ylabel('Label')"
      ],
      "execution_count": null,
      "outputs": [
        {
          "output_type": "execute_result",
          "data": {
            "text/plain": [
              "Text(0, 0.5, 'Label')"
            ]
          },
          "metadata": {
            "tags": []
          },
          "execution_count": 44
        },
        {
          "output_type": "display_data",
          "data": {
            "image/png": "[encoded data removed]",
            "text/plain": [
              "<Figure size 432x288 with 1 Axes>"
            ]
          },
          "metadata": {
            "tags": [],
            "needs_background": "light"
          }
        }
      ]
    },
    {
      "cell_type": "code",
      "metadata": {
        "colab": {
          "base_uri": "https://localhost:8080/",
          "height": 313
        },
        "id": "SaJSlVnttcn2",
        "outputId": "9d37c529-4363-4cf4-f9c7-2094cc4ed5ff"
      },
      "source": [
        "plot_train(X_train, y_train, 0.05, 100000, 8)\n",
        "plt.title('Fitted curve for 8th degree polynomial')\n",
        "plt.xlabel('Feature')\n",
        "plt.ylabel('Label')"
      ],
      "execution_count": null,
      "outputs": [
        {
          "output_type": "execute_result",
          "data": {
            "text/plain": [
              "Text(0, 0.5, 'Label')"
            ]
          },
          "metadata": {
            "tags": []
          },
          "execution_count": 45
        },
        {
          "output_type": "display_data",
          "data": {
            "image/png": "[encoded data removed]",
            "text/plain": [
              "<Figure size 432x288 with 1 Axes>"
            ]
          },
          "metadata": {
            "tags": [],
            "needs_background": "light"
          }
        }
      ]
    },
    {
      "cell_type": "code",
      "metadata": {
        "colab": {
          "base_uri": "https://localhost:8080/",
          "height": 313
        },
        "id": "W9i2c7vXtfxJ",
        "outputId": "b5087fe7-143e-49c1-ded4-4491e955b41c"
      },
      "source": [
        "plot_train(X_train, y_train, 0.05, 100000, 9)\n",
        "plt.title('Fitted curve for 9th degree polynomial')\n",
        "plt.xlabel('Feature')\n",
        "plt.ylabel('Label')"
      ],
      "execution_count": null,
      "outputs": [
        {
          "output_type": "execute_result",
          "data": {
            "text/plain": [
              "Text(0, 0.5, 'Label')"
            ]
          },
          "metadata": {
            "tags": []
          },
          "execution_count": 46
        },
        {
          "output_type": "display_data",
          "data": {
            "image/png": "[encoded data removed]",
            "text/plain": [
              "<Figure size 432x288 with 1 Axes>"
            ]
          },
          "metadata": {
            "tags": [],
            "needs_background": "light"
          }
        }
      ]
    },
    {
      "cell_type": "code",
      "metadata": {
        "colab": {
          "base_uri": "https://localhost:8080/"
        },
        "id": "sKpMyCmLtiwt",
        "outputId": "f0a0a70e-463a-41c3-f089-aa28928c7354"
      },
      "source": [
        "for i in range(1, 10):\n",
        "    predicted = predict_test(X_train, y_train, X_test, 0.05, 100000, i)\n",
        "    print(str(i) + \" degree polynomial\"  )\n",
        "    print(\"Predicted labels = \" + str(predicted))"
      ],
      "execution_count": null,
      "outputs": [
        {
          "output_type": "stream",
          "text": [
            "1 degree polynomial\n",
            "Predicted labels = [ 0.25789549  0.0794071   0.68146953 -0.4482836   0.0899488  -0.41347602\n",
            " -0.76200019 -0.26800821  0.2252068  -0.09403402 -0.32046812  0.20888251\n",
            " -0.26950824  0.52281474 -0.38967261  0.62919614  0.81327715  0.6716959\n",
            " -0.21106024  0.61983377 -0.53038993  0.23500413 -0.83064702 -0.0051564\n",
            "  0.86959006 -0.37233793 -0.11661534  0.28747926 -0.16893138  0.49978986\n",
            "  0.23510965 -0.78685287 -0.30646645  0.77527567  0.72132216 -0.3814665\n",
            "  0.15793023 -0.81644529 -0.31170468 -0.36045166  0.83548752 -0.07798086\n",
            "  0.82253597 -0.83335882  0.5053504  -0.27178284  0.31052843  0.20006317\n",
            " -0.48017263 -0.00487385  0.23857182  0.16935566 -0.78167674  0.1505639\n",
            " -0.3378136   0.19450242  0.56421002 -0.28372001 -0.03409097  0.26616317\n",
            " -0.86727513  0.83250903 -0.78306038  0.2135275  -0.35115396 -0.56691183\n",
            "  0.78970501  0.83017829  0.54251688  0.16812672  0.23472429 -0.18818943\n",
            "  0.80311685  0.82991185  0.916322    0.547922   -0.40936756 -0.9181242\n",
            "  0.09463963 -0.77064915 -0.59083755  0.17095367  0.74150102 -0.3143033\n",
            " -0.58607269 -0.53413305  0.6765458  -0.19288729  0.46237049  0.55879458\n",
            " -0.04089866  0.87673985 -0.81699403 -0.60899199 -0.82256483  0.10452634\n",
            " -0.68501371 -0.79062955 -0.20471903 -0.28549302 -0.02847502 -0.16103107\n",
            "  0.77799395 -0.41831817 -0.21910649 -0.65893935 -0.37134095 -0.57541201\n",
            "  0.50897535 -0.89211517 -0.68270626 -0.83808614 -0.13962958 -0.63417604\n",
            "  0.75353903  0.50134872 -0.02392961  0.81798717 -0.04556316  0.59898158\n",
            "  0.27444722  0.59921163  0.50230059 -0.60205547 -0.80130758 -0.94116172\n",
            " -0.3259631  -0.41572271  0.20303239 -0.09207614 -0.41583938  0.59860861\n",
            "  0.30973637 -0.93411569  0.81011253 -0.09792195  0.85493485 -0.9228461\n",
            "  0.02799256  0.88351577 -0.02140002  0.21157629 -0.00391613 -0.7447917\n",
            " -0.26954623 -0.3203391  -0.37682802  0.71902461  0.31595312  0.90043595\n",
            " -0.04157341 -0.18951586  0.3330118  -0.87681345  0.83047749 -0.77019541\n",
            " -0.6256891  -0.48303733 -0.60010448  0.62020414 -0.06847147  0.42206065\n",
            "  0.38085968  0.05466759  0.04505124 -0.08109175 -0.17433333 -0.75288937\n",
            "  0.57267122 -0.75925259 -0.09228986  0.16373789  0.06329514 -0.70188605\n",
            " -0.2683482   0.42477471 -0.87265137  0.89291473  0.67702565 -0.67619519\n",
            " -0.74721398  0.50153718  0.65788814  0.47100784 -0.67265735  0.08249651\n",
            "  0.08116642  0.82048716  0.59031178 -0.27020836  0.32339914 -0.26464219\n",
            "  0.12424337 -0.42146214  0.65443621  0.58194744 -0.72131067 -0.23807394\n",
            "  0.7147409   0.56105325]\n",
            "2 degree polynomial\n",
            "Predicted labels = [ 0.22753432  0.0401371   0.70582328 -0.46483325  0.05097188 -0.43378296\n",
            " -0.7302915  -0.30056516  0.1925866  -0.1339251  -0.34924971  0.17523952\n",
            " -0.3019673   0.52114099 -0.41236533  0.64424229  0.86429435  0.69425471\n",
            " -0.24689528  0.63328886 -0.53681289  0.20303147 -0.78492297 -0.04571868\n",
            "  0.9333935  -0.39667419 -0.15600454  0.25940507 -0.20664197  0.49488957\n",
            "  0.2031441  -0.75021339 -0.33632658  0.81813622  0.75325527 -0.40494711\n",
            "  0.12154613 -0.77372255 -0.34116736 -0.38586916  0.89144802 -0.11814708\n",
            "  0.87559809 -0.78705563  0.50121654 -0.30409234  0.28439578  0.16589679\n",
            " -0.49300003 -0.04543494  0.20684124  0.13352676 -0.74607762  0.11384006\n",
            " -0.36518749  0.16001658  0.56868818 -0.31522224 -0.07466307  0.23641793\n",
            " -0.81356521  0.88779908 -0.74718385  0.18016839 -0.3773913  -0.56825994\n",
            "  0.8356179   0.88494532  0.54371487  0.13223646  0.20273278 -0.22510065\n",
            "  0.85191601  0.88461918  0.9913702   0.5499257  -0.43009694 -0.85274228\n",
            "  0.05580254 -0.73724295 -0.58867069  0.13520517  0.77743132 -0.34356612\n",
            " -0.58461787 -0.54005205  0.69999216 -0.2295887   0.45252427  0.56244229\n",
            " -0.08144104  0.94222642 -0.7741563  -0.60405746 -0.77855533  0.06600292\n",
            " -0.66754701 -0.75322654 -0.24086626 -0.31687216 -0.06906246 -0.19904136\n",
            "  0.82142533 -0.43812152 -0.25453017 -0.64594246 -0.39576933 -0.57552861\n",
            "  0.50534551 -0.83278847 -0.66564234 -0.79076875 -0.17836913 -0.62525848\n",
            "  0.79190497  0.49666247 -0.06452338  0.87004182 -0.08607813  0.60897595\n",
            "  0.24533718  0.60924356  0.49774535 -0.59818867 -0.76172548 -0.87026764\n",
            " -0.35430731 -0.43579676  0.16903993 -0.13200441 -0.4359013   0.60854213\n",
            "  0.28353467 -0.86492233  0.86043597 -0.13773619  0.91533035 -0.85634576\n",
            " -0.01228752  0.9506099  -0.06199495  0.17809724 -0.04447306 -0.71640189\n",
            " -0.30200281 -0.34913086 -0.40074615  0.75050941  0.29029775  0.97159709\n",
            " -0.08211218 -0.22636843  0.30890779 -0.82096596  0.88531158 -0.73687875\n",
            " -0.61813247 -0.49551724 -0.59653571  0.63372173 -0.10876867  0.40729896\n",
            "  0.36151598  0.01482469  0.00502914 -0.12120995 -0.21182956 -0.72294753\n",
            "  0.57846238 -0.72807904 -0.13221412  0.1276317   0.02363373 -0.68143161\n",
            " -0.30088301  0.41033054 -0.81773957  0.96225874  0.70056016 -0.66026024\n",
            " -0.71836172  0.49687685  0.677954    0.46227054 -0.65733117  0.04330938\n",
            "  0.0419433   0.87309484  0.59890097 -0.30262153  0.29841151 -0.29741664\n",
            "  0.08642235 -0.44093522  0.67388668  0.58919971 -0.69732371 -0.27246045\n",
            "  0.74539353  0.56504638]\n",
            "3 degree polynomial\n",
            "Predicted labels = [ 0.38908885  0.08387993  0.77792492 -0.69010625  0.10269613 -0.66188407\n",
            " -0.66379573 -0.49565264  0.33626681 -0.2234443  -0.56366804  0.30921987\n",
            " -0.49770769  0.71495203 -0.63976596  0.77114809  0.72369852  0.77779231\n",
            " -0.41336935  0.76840226 -0.73530316  0.35229438 -0.57457109 -0.0675416\n",
            "  0.66565291 -0.62229766 -0.26180031  0.435142   -0.34776706  0.69609852\n",
            "  0.35246612 -0.63549561 -0.54632027  0.75057514  0.77279641 -0.63163603\n",
            "  0.22243953 -0.59590701 -0.55288196 -0.60968398  0.7034699  -0.19580133\n",
            "  0.71567948 -0.57032157  0.70085206 -0.50081213  0.46971719  0.29444112\n",
            " -0.71138293 -0.06703755  0.35809049  0.24217282 -0.64175695  0.20964478\n",
            " -0.58428941  0.28506649  0.7431144  -0.51686792 -0.11895072  0.40213734\n",
            " -0.51232753  0.70638105 -0.6401023   0.3169577  -0.59946788 -0.74478318\n",
            "  0.74149675  0.70861594  0.7293017   0.24005712  0.35183882 -0.3782029\n",
            "  0.73182709  0.70886902  0.59996711  0.73294137 -0.65822532 -0.40801434\n",
            "  0.11105419 -0.65445005 -0.74714422  0.24492134  0.76660301 -0.55610553\n",
            " -0.74692449 -0.73659111  0.77792499 -0.38551615  0.66093384  0.73986594\n",
            " -0.13097342  0.65665906 -0.5951111  -0.7468142  -0.58690177  0.12863509\n",
            " -0.72430744 -0.63080378 -0.40373105 -0.51921823 -0.10900945 -0.33507901\n",
            "  0.74896871 -0.66610932 -0.42547024 -0.73599997 -0.62125925 -0.74597966\n",
            "  0.70388289 -0.4640287  -0.72551541 -0.56277796 -0.30016134 -0.74321748\n",
            "  0.76171569  0.69744382 -0.10094896  0.71969254 -0.13919196  0.76069029\n",
            "  0.41507567  0.76078718  0.69826044 -0.74716041 -0.61697089 -0.35362706\n",
            " -0.57030679 -0.66385628  0.29942917 -0.22008861 -0.66395814  0.76053265\n",
            "  0.46854936 -0.37074431  0.72630523 -0.23009436  0.68292464 -0.39723602\n",
            " -0.00823732  0.64778802 -0.096458    0.31371124 -0.0653288  -0.68082089\n",
            " -0.49775966 -0.563511   -0.62692932  0.77334541  0.47767516  0.6241415\n",
            " -0.13216327 -0.38027235  0.50222898 -0.49437305  0.70833116 -0.65495359\n",
            " -0.74484436 -0.71306977 -0.7472085   0.76851943 -0.17929654  0.61724895\n",
            "  0.56696429  0.03959266  0.02235098 -0.20118046 -0.35637646 -0.67306781\n",
            "  0.74791864 -0.66665355 -0.22045514  0.23248776  0.05505231 -0.71443191\n",
            " -0.49611897  0.62036801 -0.50229763  0.63491785  0.77793097 -0.72874118\n",
            " -0.67854952  0.69760579  0.77670195  0.66952913 -0.73038136  0.08939867\n",
            "  0.08702309  0.71750457  0.75684995 -0.49866475  0.48848205 -0.49101892\n",
            "  0.16352514 -0.66880196  0.7762665   0.75279998 -0.70075079 -0.45339972\n",
            "  0.77428486  0.74123715]\n",
            "4 degree polynomial\n",
            "Predicted labels = [ 0.59905172  0.23878141  0.74985135 -0.90319264  0.26308638 -0.86171683\n",
            " -0.67825986 -0.60275393  0.5426303  -0.18787067 -0.70953135  0.5126339\n",
            " -0.60597374  0.83529764 -0.82809504  0.79862804  0.53409434  0.76054399\n",
            " -0.47462039  0.80519216 -0.9589363   0.56006234 -0.43075419  0.03512756\n",
            "  0.4012019  -0.8011518  -0.24456098  0.64564841 -0.37394859  0.83255005\n",
            "  0.5602477  -0.59883531 -0.68228206  0.61001576  0.69870029 -0.81558853\n",
            "  0.41189741 -0.48932081 -0.69259072 -0.78155617  0.4845792  -0.14744007\n",
            "  0.51391326 -0.41911566  0.83355178 -0.61083903  0.67882541  0.49594884\n",
            " -0.93234079  0.0358278   0.56630106  0.43537034 -0.61630198  0.39651012\n",
            " -0.74187875  0.48526082  0.83081055 -0.63602366 -0.03701883  0.61251443\n",
            " -0.26085435  0.49143909 -0.6116812   0.52128791 -0.76562354 -0.96171864\n",
            "  0.58249764  0.49675971  0.83468858  0.43286899  0.55957051 -0.42046457\n",
            "  0.55548195  0.49736528  0.27261118  0.83403858 -0.85620526  0.02269349\n",
            "  0.27380631 -0.65188325 -0.95522501  0.43861432  0.66815507 -0.69765449\n",
            " -0.95706773 -0.95989379  0.75532891 -0.43169198  0.82030389  0.83209607\n",
            " -0.05409464  0.38259774 -0.48713155 -0.94561422 -0.46457235  0.2961993\n",
            " -0.85726632 -0.58577859 -0.45973624 -0.6397129  -0.02295667 -0.35466105\n",
            "  0.60495438 -0.86805125 -0.49334914 -0.89676753 -0.7995424  -0.960194\n",
            "  0.8340893  -0.129501   -0.86117014 -0.39847333 -0.30191517 -0.92522851\n",
            "  0.64844083  0.83285247 -0.01159348  0.52391039 -0.06581068  0.81746659\n",
            "  0.62566429  0.81734875  0.83302887 -0.94977681 -0.54741958  0.17052766\n",
            " -0.71995268 -0.86467779  0.50160298 -0.18294329 -0.86483053  0.8176568\n",
            "  0.67773233  0.12398456  0.54084104 -0.19765097  0.43812016  0.05198111\n",
            "  0.1165256   0.36460848 -0.00527748  0.517664    0.03820058 -0.72683106\n",
            " -0.60605517 -0.70928477 -0.80832074  0.70197971  0.68622012  0.31817144\n",
            " -0.05578868 -0.42363969  0.70841795 -0.21199782  0.49607903 -0.6533002\n",
            " -0.93303885 -0.93451442 -0.95083752  0.80494493 -0.12347586  0.79666749\n",
            "  0.76178827  0.18066486  0.1577046  -0.15527893 -0.38707144 -0.70461624\n",
            "  0.82837655 -0.68636158 -0.18348124  0.42388962  0.20109439 -0.82623989\n",
            " -0.6034845   0.79859027 -0.23355646  0.33908003  0.7548032  -0.8717533\n",
            " -0.72030419  0.8328879   0.77441346  0.82397275 -0.87723823  0.24593439\n",
            "  0.24285781  0.51843569  0.82162296 -0.60747348  0.69610789 -0.59549656\n",
            "  0.33999532 -0.87206934  0.77765515  0.82510909 -0.78497041 -0.5367406\n",
            "  0.70798591  0.83158569]\n",
            "5 degree polynomial\n",
            "Predicted labels = [ 0.66647622  0.32565358  0.70857371 -0.97546296  0.3499087  -0.92014593\n",
            " -0.72276125 -0.59783736  0.61628206 -0.12270317 -0.72742767  0.58900181\n",
            " -0.6016932   0.83083233 -0.87646167  0.76726044  0.4827842   0.72090479\n",
            " -0.44668888  0.77587445 -1.05677668  0.63195453 -0.39534913  0.11675685\n",
            "  0.3537366  -0.84199089 -0.18529936  0.70662075 -0.33081636  0.83465391\n",
            "  0.63212043 -0.61899022 -0.69400047  0.55905221  0.65189749 -0.86040822\n",
            "  0.49486412 -0.47381447 -0.70661548 -0.8171699   0.43414166 -0.07848624\n",
            "  0.46286755 -0.37969485  0.83405492 -0.60752528  0.73430189  0.57366761\n",
            " -1.01597378  0.11749159  0.63752922  0.51711795 -0.64193237  0.48017911\n",
            " -0.76746596  0.56378793  0.81505864 -0.6378269   0.04047239  0.6782092\n",
            " -0.16502407  0.4408368  -0.63586931  0.59691107 -0.79712676 -1.06608108\n",
            "  0.53113731  0.44603892  0.8247521   0.5147552   0.63151426 -0.38405782\n",
            "  0.50404186  0.44663153  0.23258829  0.8226308  -0.91292589  0.22661673\n",
            "  0.36055772 -0.68846159 -1.06166388  0.52017902  0.61932196 -0.71282574\n",
            " -1.06324718 -1.05856842  0.71486349 -0.39698447  0.83333388  0.81777277\n",
            "  0.02224957  0.33601438 -0.47089104 -1.05228343 -0.44072195  0.38270399\n",
            " -0.94944187 -0.60179945 -0.42940474 -0.64228188  0.05543121 -0.30888645\n",
            "  0.55389189 -0.92847632 -0.46851525 -0.99704077 -0.83994485 -1.06551109\n",
            "  0.83355341  0.01539455 -0.95420902 -0.35188243 -0.24934349 -1.03005486\n",
            "  0.59866098  0.83450678  0.06748724  0.47271721  0.00970973  0.79297392\n",
            "  0.68956758  0.79280101  0.83440897 -1.05650383 -0.55110303  0.43376341\n",
            " -0.74028279 -0.92403543  0.5788763  -0.11729542 -0.92423628  0.7932535\n",
            "  0.73340385  0.36835011  0.48947259 -0.13345255  0.38913003  0.26750743\n",
            "  0.20142151  0.31894549  0.07417604  0.59360277  0.11998046 -0.78543752\n",
            " -0.60179076 -0.72712398 -0.85112189  0.65544211  0.74034968  0.27517029\n",
            "  0.02043826 -0.38771046  0.75819188 -0.09813712  0.44537294 -0.69030849\n",
            " -1.03878371 -1.01909076 -1.05754777  0.7755447  -0.05244463  0.82154842\n",
            "  0.79853678  0.2670504   0.24366944 -0.08703159 -0.34578574 -0.75685454\n",
            "  0.81042629 -0.73326115 -0.11788555  0.50625619  0.28774658 -0.91118255\n",
            " -0.59871198  0.82267705 -0.12768515  0.29483118  0.71425744 -0.96707084\n",
            " -0.77705496  0.8344879   0.73726416  0.83446409 -0.97369812  0.33280772\n",
            "  0.32973225  0.46731934  0.79923381 -0.60349022  0.74835798 -0.58915738\n",
            "  0.4256202  -0.93377958  0.74115917  0.80479919 -0.85947145 -0.51942472\n",
            "  0.66196086  0.81666456]\n",
            "6 degree polynomial\n",
            "Predicted labels = [ 0.65462014  0.33874817  0.69490439 -0.97390242  0.36159181 -0.91221253\n",
            " -0.75100971 -0.57043488  0.60884818 -0.09273266 -0.70540797  0.58385144\n",
            " -0.57441558  0.80143979 -0.86445551  0.74572665  0.50136106  0.70555602\n",
            " -0.41585907  0.75321916 -1.07102463  0.62317137 -0.40179234  0.13988107\n",
            "  0.39153881 -0.82720145 -0.15437779  0.69100423 -0.2991028   0.80489817\n",
            "  0.62332283 -0.64152235 -0.67034351  0.56649057  0.64608678 -0.84706384\n",
            "  0.49699716 -0.48639757 -0.68355443 -0.8005716   0.45991598 -0.04940077\n",
            "  0.48438345 -0.38485699  0.8043461  -0.58044032  0.71596267  0.56976558\n",
            " -1.02053036  0.14058714  0.62825936  0.51760955 -0.66584152  0.48336899\n",
            " -0.74766683  0.56067709  0.78747861 -0.61181859  0.06632001  0.6652757\n",
            " -0.1509702   0.46561664 -0.65942035  0.591107   -0.77917389 -1.08696394\n",
            "  0.54262953  0.47004687  0.79603198  0.51542338  0.62276938 -0.35257546\n",
            "  0.51949485  0.47055159  0.28876083  0.79415506 -0.90427071  0.28216167\n",
            "  0.37160458 -0.71497216 -1.08647406  0.52044104  0.61811388 -0.69006773\n",
            " -1.08730989 -1.07352132  0.70033599 -0.36560247  0.80391082  0.78986818\n",
            "  0.04867331  0.37648684 -0.48325418 -1.07975283 -0.45077451  0.39239509\n",
            " -0.98340792 -0.62326167 -0.39835257 -0.61644283  0.0807844  -0.27716101\n",
            "  0.56207748 -0.92140284 -0.43801355 -1.02980906 -0.82500046 -1.08783665\n",
            "  0.80388905  0.0476484  -0.9881217  -0.35472508 -0.21782362 -1.06062011\n",
            "  0.60039922  0.80476161  0.09242785  0.49277819  0.03651318  0.76812734\n",
            "  0.67557432  0.76797632  0.80467125 -1.08299472 -0.56923224  0.51395176\n",
            " -0.71894394 -0.91649981  0.57455303 -0.08742375 -0.91672137  0.76837154\n",
            "  0.71515477  0.44057768  0.50706509 -0.10329338  0.42161931  0.32778321\n",
            "  0.22093612  0.36199568  0.09888234  0.58807295  0.14297855 -0.81640595\n",
            " -0.57451632 -0.70508855 -0.83703734  0.64913401  0.72140009  0.32485627\n",
            "  0.04691769 -0.35625468  0.73740612 -0.07753456  0.46947967 -0.71691671\n",
            " -1.06839227 -1.02420344 -1.08375478  0.75293214 -0.02396181  0.79366764\n",
            "  0.77336753  0.28334111  0.26115153 -0.05776147 -0.31410796 -0.78666126\n",
            "  0.78340733 -0.76200835 -0.08800296  0.507555    0.30294296 -0.94519381\n",
            " -0.57133766  0.79465635 -0.11000566  0.34153252  0.69981249 -1.00077544\n",
            " -0.80769728  0.80474414  0.71970753  0.8048665  -1.00725513  0.34549142\n",
            "  0.34259314  0.48817732  0.77359914 -0.57627147  0.72859098 -0.56148113\n",
            "  0.4325574  -0.92726957  0.72308057  0.77847174 -0.89271214 -0.4899002\n",
            "  0.65473992  0.78889208]\n",
            "7 degree polynomial\n",
            "Predicted labels = [ 0.63373761  0.32521687  0.69770158 -0.95816119  0.34741683 -0.89648489\n",
            " -0.75471236 -0.55940801  0.58866754 -0.09368956 -0.69191228  0.56414098\n",
            " -0.56330794  0.78811824 -0.8490064   0.74230821  0.5233492   0.70712688\n",
            " -0.40826777  0.74877845 -1.05718621  0.60274628 -0.4114107   0.13214622\n",
            "  0.42307803 -0.81208697 -0.15360035  0.66977444 -0.29442673  0.78994244\n",
            "  0.60289527 -0.64749791 -0.65743127  0.58246549  0.6541783  -0.83175959\n",
            "  0.47923213 -0.49490534 -0.67041711 -0.78574839  0.48558336 -0.0515972\n",
            "  0.50789101 -0.39467766  0.78976803 -0.56921127  0.69465961  0.55034106\n",
            " -1.00520204  0.13283145  0.60775242  0.49934815 -0.6713518   0.46594144\n",
            " -0.73353156  0.54144412  0.77755735 -0.59997387  0.06075326  0.644268\n",
            " -0.16299064  0.49078381 -0.6650555   0.57125487 -0.76461248 -1.07484376\n",
            "  0.5608446   0.49482407  0.78425529  0.49721376  0.60235088 -0.34653498\n",
            "  0.53983971  0.49528429  0.32875426  0.78282561 -0.88857583  0.26843404\n",
            "  0.35715    -0.71947575 -1.07575461  0.50211289  0.62906035 -0.67682174\n",
            " -1.07629485 -1.05983485  0.70251175 -0.35923682  0.78669714  0.77946869\n",
            "  0.04362473  0.40928987 -0.49180634 -1.07023212 -0.45977082  0.37736554\n",
            " -0.97997079 -0.62957326 -0.39118286 -0.60450982  0.07479218 -0.27305778\n",
            "  0.57847029 -0.90564491 -0.42989734 -1.02411907 -0.80990851 -1.07618999\n",
            "  0.78956301  0.03450779 -0.98447971 -0.36489017 -0.2153038  -1.0529406\n",
            "  0.61310267  0.78991066  0.08609274  0.51553668  0.03182097  0.76151204\n",
            "  0.65446295  0.76138423  0.78988469 -1.07300268 -0.5764756   0.50032214\n",
            " -0.70523545 -0.90075699  0.55502978 -0.08853168 -0.90097781  0.76171864\n",
            "  0.69385131  0.42684934  0.52853867 -0.10395059  0.45060305  0.31402442\n",
            "  0.21081342  0.39600656  0.09235702  0.56827958  0.13515228 -0.81849726\n",
            " -0.56340664 -0.69159798 -0.82182579  0.65690776  0.70010548  0.36192534\n",
            "  0.0419206  -0.35012207  0.71620279 -0.09004186  0.49430686 -0.72137849\n",
            " -1.06007037 -1.00893245 -1.07363311  0.74853133 -0.02689254  0.77457703\n",
            "  0.75295399  0.27139813  0.24985286 -0.05971757 -0.30904437 -0.78951282\n",
            "  0.77425318 -0.76545498 -0.08909441  0.48953349  0.29043431 -0.94328106\n",
            " -0.56029242  0.77567399 -0.12230866  0.37723486  0.7020485  -0.9965607\n",
            " -0.81001624  0.78990591  0.71959561  0.78813005 -1.00273268  0.33176933\n",
            "  0.32895297  0.51134687  0.76612175 -0.56512632  0.70732408 -0.55063749\n",
            "  0.41644228 -0.91149682  0.72255717  0.77018632 -0.89259842 -0.48059478\n",
            "  0.66192524  0.77869083]\n",
            "8 degree polynomial\n",
            "Predicted labels = [ 0.62592067  0.31051506  0.70487208 -0.94986263  0.33302091 -0.89208091\n",
            " -0.73623836 -0.56853094  0.57940324 -0.11005563 -0.69683886  0.55417212\n",
            " -0.57232341  0.79136259 -0.84717355  0.74850213  0.53146523  0.71413997\n",
            " -0.42089917  0.75476307 -1.0397742   0.59391135 -0.41222422  0.11574092\n",
            "  0.43091658 -0.81205828 -0.16959473  0.66329276 -0.30893044  0.79239594\n",
            "  0.59406499 -0.63434017 -0.66356386  0.59053704  0.66186776 -0.8307888\n",
            "  0.46718421 -0.49047719 -0.67610557 -0.78691757  0.49363892 -0.06813316\n",
            "  0.51598959 -0.39657639  0.792417   -0.57806233  0.68922372  0.53999816\n",
            " -0.99328683  0.11642931  0.5990749   0.48774742 -0.65694512  0.4536121\n",
            " -0.73688276  0.53086806  0.78209363 -0.60793376  0.0441286   0.63682259\n",
            " -0.1809604   0.49885119 -0.65097508  0.56148496 -0.76669428 -1.05387552\n",
            "  0.56895501  0.5028999   0.78813613  0.48556434  0.59350363 -0.36025878\n",
            "  0.54796213  0.50336104  0.33605225  0.78687429 -0.8846223   0.21629862\n",
            "  0.34289585 -0.70266103 -1.05280851  0.49057569  0.63693626 -0.68228673\n",
            " -1.05371495 -1.04203552  0.70960442 -0.37275102  0.78776596  0.78384592\n",
            "  0.02697938  0.41706389 -0.48756733 -1.04603783 -0.45751211  0.36342109\n",
            " -0.95405604 -0.6173765  -0.40413533 -0.61233331  0.05819366 -0.28784486\n",
            "  0.58655122 -0.90070697 -0.44210122 -0.99802354 -0.80998158 -1.05448089\n",
            "  0.7923379   0.00150656 -0.95850977 -0.36874786 -0.23075336 -1.02746849\n",
            "  0.62106508  0.79241924  0.06952129  0.52364522  0.01516853  0.76699419\n",
            "  0.64739128  0.76687219  0.7924268  -1.04925626 -0.56723136  0.42797817\n",
            " -0.70967247 -0.89610566  0.54481225 -0.1049226  -0.89631362  0.76719135\n",
            "  0.6883795   0.36103286  0.53665812 -0.12026387  0.45855327  0.25800849\n",
            "  0.19490196  0.40371335  0.0758029   0.55842594  0.11876096 -0.79727908\n",
            " -0.57241938 -0.69653594 -0.82133602  0.66457273  0.69491549  0.3694385\n",
            "  0.02527387 -0.36378745  0.71178384 -0.11343342  0.50238164 -0.70447183\n",
            " -1.03496328 -0.99669396 -1.05001933  0.75452443 -0.04349344  0.77403379\n",
            "  0.75065942  0.25605249  0.23428708 -0.07622659 -0.32334212 -0.76949685\n",
            "  0.77903173 -0.74649422 -0.10548267  0.47771132  0.27530088 -0.91802665\n",
            " -0.56939107  0.77524274 -0.14328243  0.38483863  0.70914888 -0.97047785\n",
            " -0.78914158  0.79242114  0.72636641  0.78952874 -0.97661417  0.3171553\n",
            "  0.31430096  0.51945027  0.7713805  -0.57409137  0.70247116 -0.5599988\n",
            "  0.40315682 -0.90621053  0.72926377  0.77522163 -0.86871738 -0.49170173\n",
            "  0.66954273  0.78313478]\n",
            "9 degree polynomial\n",
            "Predicted labels = [ 6.32405544e-01  3.04205190e-01  7.10423220e-01 -9.54429458e-01\n",
            "  3.27567563e-01 -9.01960903e-01 -7.01630954e-01 -5.90934322e-01\n",
            "  5.83941880e-01 -1.29305547e-01 -7.16560753e-01  5.57654706e-01\n",
            " -5.94677515e-01  8.03219672e-01 -8.60194698e-01  7.56882606e-01\n",
            "  5.26928180e-01  7.20273625e-01 -4.44074076e-01  7.63574574e-01\n",
            " -1.02914511e+00  5.99057695e-01 -4.01647109e-01  1.02621965e-01\n",
            "  4.20912653e-01 -8.27101037e-01 -1.90059875e-01  6.71327076e-01\n",
            " -3.31432963e-01  8.04583637e-01  5.99217767e-01 -6.05341096e-01\n",
            " -6.84198584e-01  5.89315720e-01  6.64797705e-01 -8.44795304e-01\n",
            "  4.67062141e-01 -4.72564907e-01 -6.96415962e-01 -8.03214408e-01\n",
            "  4.87022159e-01 -8.64177845e-02  5.10597984e-01 -3.87565497e-01\n",
            "  8.04538913e-01 -6.00338747e-01  6.98314685e-01  5.42888711e-01\n",
            " -9.92319879e-01  1.03332234e-01  6.04437470e-01  4.88469978e-01\n",
            " -6.26523663e-01  4.52935836e-01 -7.55268733e-01  5.33377958e-01\n",
            "  7.92973643e-01 -6.29742820e-01  2.88308169e-02  6.43761586e-01\n",
            " -1.96577474e-01  4.92519226e-01 -6.20920006e-01  5.65273409e-01\n",
            " -7.83896671e-01 -1.03589545e+00  5.66511592e-01  4.96789524e-01\n",
            "  7.99589055e-01  4.86196962e-01  5.98632895e-01 -3.83187665e-01\n",
            "  5.44342075e-01  4.97275927e-01  3.21045992e-01  7.98196951e-01\n",
            " -8.95074004e-01  1.42543658e-01  3.37822175e-01 -6.69665451e-01\n",
            " -1.03010182e+00  4.91414847e-01  6.38392632e-01 -7.02428618e-01\n",
            " -1.03193469e+00 -1.03065694e+00  7.15452046e-01 -3.95754256e-01\n",
            "  8.00162105e-01  7.94881425e-01  1.11899376e-02  4.06321037e-01\n",
            " -4.69912440e-01 -1.01990624e+00 -4.42586456e-01  3.59143760e-01\n",
            " -9.17234185e-01 -5.89506127e-01 -4.27271701e-01 -6.34064320e-01\n",
            "  4.33080580e-02 -3.10118472e-01  5.85103186e-01 -9.09897653e-01\n",
            " -4.65290979e-01 -9.63943242e-01 -8.25133672e-01 -1.03480297e+00\n",
            "  8.04412097e-01 -3.89289845e-02 -9.21877845e-01 -3.62600678e-01\n",
            " -2.52260553e-01 -9.96985858e-01  6.21596962e-01  8.04589400e-01\n",
            "  5.49733808e-02  5.18675690e-01 -9.52407589e-04  7.76680747e-01\n",
            "  6.54769056e-01  7.76549742e-01  8.04585907e-01 -1.02441087e+00\n",
            " -5.42988293e-01  3.17449109e-01 -7.28995861e-01 -9.05667896e-01\n",
            "  5.47903741e-01 -1.24059035e-01 -9.05859254e-01  7.76892485e-01\n",
            "  6.97436417e-01  2.62535963e-01  5.32409031e-01 -1.39735455e-01\n",
            "  4.50033085e-01  1.77305559e-01  1.84407795e-01  3.92261241e-01\n",
            "  6.14444171e-02  5.62086414e-01  1.05738137e-01 -7.60427970e-01\n",
            " -5.94772218e-01 -7.16266916e-01 -8.35876978e-01  6.67664309e-01\n",
            "  7.04235167e-01  3.56177854e-01  9.43619199e-03 -3.86738548e-01\n",
            "  7.21771787e-01 -1.37838294e-01  4.96242881e-01 -6.71383065e-01\n",
            " -1.00588241e+00 -9.95202931e-01 -1.02554106e+00  7.63319326e-01\n",
            " -6.11709977e-02  7.86196679e-01  7.62095871e-01  2.47724039e-01\n",
            "  2.25174954e-01 -9.47043047e-02 -3.45983454e-01 -7.33549593e-01\n",
            "  7.89652308e-01 -7.11445261e-01 -1.24631555e-01  4.78020934e-01\n",
            "  2.67676708e-01 -8.80181085e-01 -5.91783417e-01  7.87436232e-01\n",
            " -1.63743523e-01  3.72388447e-01  7.14967880e-01 -9.34440741e-01\n",
            " -7.52533698e-01  8.04589130e-01  7.33281511e-01  8.01913070e-01\n",
            " -9.40935041e-01  3.11096843e-01  3.08134297e-01  5.14249303e-01\n",
            "  7.81395974e-01 -5.96421950e-01  7.12092101e-01 -5.82507085e-01\n",
            "  4.00446944e-01 -9.14944769e-01  7.36366565e-01  7.85534781e-01\n",
            " -8.30604955e-01 -5.14770084e-01  6.72932296e-01  7.94106431e-01]\n"
          ],
          "name": "stdout"
        }
      ]
    },
    {
      "cell_type": "code",
      "metadata": {
        "colab": {
          "base_uri": "https://localhost:8080/"
        },
        "id": "moighkfctlpv",
        "outputId": "c0f62455-1ff2-406d-ae70-e9d42765dffe"
      },
      "source": [
        "for i in range(1, 10):\n",
        "    J = squared_error(X_train, X_test, y_train, y_test, 0.05, 100000, i)\n",
        "    \n",
        "    print(\"Test error for \" + str(i) + \" degree polynomial= \" + str(J[1]))\n",
        "    print(\"\\n\")"
      ],
      "execution_count": null,
      "outputs": [
        {
          "output_type": "stream",
          "text": [
            "Test error for 1 degree polynomial= 0.09556384015648908\n",
            "\n",
            "\n",
            "Test error for 2 degree polynomial= 0.09606879534881195\n",
            "\n",
            "\n",
            "Test error for 3 degree polynomial= 0.036844533956973985\n",
            "\n",
            "\n",
            "Test error for 4 degree polynomial= 0.008604132308976649\n",
            "\n",
            "\n",
            "Test error for 5 degree polynomial= 0.009275020551041454\n",
            "\n",
            "\n",
            "Test error for 6 degree polynomial= 0.012889812653438306\n",
            "\n",
            "\n",
            "Test error for 7 degree polynomial= 0.01412134070134728\n",
            "\n",
            "\n",
            "Test error for 8 degree polynomial= 0.012835256653625116\n",
            "\n",
            "\n",
            "Test error for 9 degree polynomial= 0.010224607405985728\n",
            "\n",
            "\n"
          ],
          "name": "stdout"
        }
      ]
    },
    {
      "cell_type": "code",
      "metadata": {
        "colab": {
          "base_uri": "https://localhost:8080/",
          "height": 297
        },
        "id": "YiLJOiDUtrr_",
        "outputId": "8bb51ea3-8d19-4f1e-a1c5-911d9c4a3149"
      },
      "source": [
        "error_train = []\n",
        "error_test = []\n",
        "for i in range(1, 10):\n",
        "    J = squared_error(X_train, X_test, y_train, y_test, 0.05, 100000, i)\n",
        "    error_train.append(J[0])\n",
        "    error_test.append(J[1])\n",
        "n = [i for i in range(1,10)]    \n",
        "plt.plot(n, error_train, label = 'Training_error')\n",
        "plt.plot(n, error_test, label = 'Test_error')\n",
        "plt.xlabel('n')\n",
        "plt.ylabel('Squared error')\n",
        "plt.legend()"
      ],
      "execution_count": null,
      "outputs": [
        {
          "output_type": "execute_result",
          "data": {
            "text/plain": [
              "<matplotlib.legend.Legend at 0x7f17de7c00d0>"
            ]
          },
          "metadata": {
            "tags": []
          },
          "execution_count": 49
        },
        {
          "output_type": "display_data",
          "data": {
            "image/png": "[encoded data removed]",
            "text/plain": [
              "<Figure size 432x288 with 1 Axes>"
            ]
          },
          "metadata": {
            "tags": [],
            "needs_background": "light"
          }
        }
      ]
    },
    {
      "cell_type": "markdown",
      "metadata": {
        "id": "BC7gv1LNtvk9"
      },
      "source": [
        "Q.3"
      ]
    },
    {
      "cell_type": "markdown",
      "metadata": {
        "id": "bebRR16Lt3_b"
      },
      "source": [
        "When N = 10"
      ]
    },
    {
      "cell_type": "code",
      "metadata": {
        "colab": {
          "base_uri": "https://localhost:8080/"
        },
        "id": "6NJU3bC3t6ZF",
        "outputId": "a3717b02-e2d3-40d1-ec3d-ede9c1384d97"
      },
      "source": [
        "x1 = []\n",
        "y = []\n",
        "n = 10\n",
        "for i in range(n):\n",
        "    x1.append(random.uniform(0, 1))   \n",
        "for i in range(n):\n",
        "    noise = np.random.normal(scale= 0.3)\n",
        "#     print(noise)\n",
        "    temp = noise + math.sin(2*math.pi*x1[i])\n",
        "    y.append(temp) \n",
        "# for i in range(n):    \n",
        "#     print(\"(\", x[i],\", \" ,y[i], \")\")\n",
        "train_error = []\n",
        "test_error = []\n",
        "x_train, x_test, y_train, y_test = train_test_split(x1,y,test_size = 0.2, random_state = 42)\n",
        "x2 = []\n",
        "x3 = []\n",
        "x4 = []\n",
        "x5 = []\n",
        "x6 = []\n",
        "x7 = []\n",
        "x8 = []\n",
        "x9 = []\n",
        "n1 = int(0.8*n)\n",
        "n2 = int(0.2*n)\n",
        "for i in range(n1):\n",
        "    x2.append(x_train[i]*x_train[i])\n",
        "    x3.append(x2[i]*x_train[i])\n",
        "    x4.append(x3[i]*x_train[i])\n",
        "    x5.append(x4[i]*x_train[i])\n",
        "    x6.append(x5[i]*x_train[i])\n",
        "    x7.append(x6[i]*x_train[i])\n",
        "    x8.append(x7[i]*x_train[i])\n",
        "    x9.append(x8[i]*x_train[i])\n",
        "    \n",
        "x2_test = []\n",
        "x3_test = []\n",
        "x4_test = []\n",
        "x5_test = []\n",
        "x6_test = []\n",
        "x7_test = []\n",
        "x8_test = []\n",
        "x9_test = []\n",
        "for i in range(n2):\n",
        "    x2_test.append(x_test[i]*x_test[i])\n",
        "    x3_test.append(x2_test[i]*x_test[i])\n",
        "    x4_test.append(x3_test[i]*x_test[i])\n",
        "    x5_test.append(x4_test[i]*x_test[i])\n",
        "    x6_test.append(x5_test[i]*x_test[i])\n",
        "    x7_test.append(x6_test[i]*x_test[i])\n",
        "    x8_test.append(x7_test[i]*x_test[i])\n",
        "    x9_test.append(x8_test[i]*x_test[i])\n",
        "\n",
        "print(x_train[0], x2[0], x3[0], x4[0], x5[0], x6[0])\n"
      ],
      "execution_count": null,
      "outputs": [
        {
          "output_type": "stream",
          "text": [
            "0.5491079262059845 0.3015195146222369 0.16556675538485152 0.09091401769802933 0.049921607721219056 0.027412350488667258\n"
          ],
          "name": "stdout"
        }
      ]
    },
    {
      "cell_type": "code",
      "metadata": {
        "id": "7L9Q9_fiuAHp"
      },
      "source": [
        "def cost_function(X, Y, B):\n",
        "    m = len(Y)\n",
        "    J = np.sum((X.dot(B) - Y) ** 2)/(2 * m)\n",
        "    return J\n",
        "def gradient_descent(X, Y, B, alpha, iterations):\n",
        "    cost_history = [0] * iterations\n",
        "    m = len(Y)\n",
        "    \n",
        "    for iteration in range(iterations):\n",
        "        # Hypothesis Values\n",
        "        h = X.dot(B)\n",
        "        # Difference b/w Hypothesis and Actual Y\n",
        "        loss = h - Y\n",
        "        # Gradient Calculation\n",
        "        gradient = X.T.dot(loss) / m\n",
        "        # Changing Values of B using Gradient\n",
        "        B = B - alpha * gradient\n",
        "        # New Cost Value\n",
        "        cost = cost_function(X, Y, B)\n",
        "        cost_history[iteration] = cost\n",
        "#         print(cost)\n",
        "        \n",
        "    return B, cost_history\n",
        "def parameterX_n(n):\n",
        "    m = len(x_train)\n",
        "    x0 = np.ones(m)\n",
        "    \n",
        "    m2 = len(x_test)\n",
        "    x0_test = np.ones(m2)\n",
        "    #Taking transpose of X matrix\n",
        "    # X = np.array([x0]).T\n",
        "    if n ==0:\n",
        "        X = np.array([x0]).T\n",
        "        B = np.array([0])\n",
        "        X_test = np.array([x0_test]).T\n",
        "    elif n==1:\n",
        "        X = np.array([x0, x_train]).T\n",
        "        B = np.array([0, 0])\n",
        "        X_test = np.array([x0_test, x_test]).T\n",
        "    elif n==2:\n",
        "        X = np.array([x0, x_train, x2]).T\n",
        "        B = np.array([0, 0, 0])\n",
        "        X_test = np.array([x0_test, x_test, x2_test]).T\n",
        "    elif n==3:\n",
        "        X = np.array([x0, x_train, x2, x3]).T\n",
        "        B = np.array([0, 0, 0, 0])\n",
        "        X_test = np.array([x0_test, x_test, x2_test, x3_test]).T\n",
        "    elif n==4:\n",
        "        X = np.array([x0, x_train, x2, x3, x4]).T\n",
        "        B = np.array([0, 0, 0, 0, 0])\n",
        "        X_test = np.array([x0_test, x_test, x2_test, x3_test, x4_test]).T\n",
        "    elif n==5:\n",
        "        X = np.array([x0, x_train, x2, x3, x4, x5]).T\n",
        "        B = np.array([0, 0, 0, 0, 0, 0])\n",
        "        X_test = np.array([x0_test, x_test, x2_test, x3_test, x4_test, x5_test]).T\n",
        "    elif n==6:\n",
        "        X = np.array([x0, x_train, x2, x3, x4, x5, x6]).T\n",
        "        B = np.array([0, 0, 0, 0, 0, 0, 0])\n",
        "        X_test = np.array([x0_test, x_test, x2_test, x3_test, x4_test, x5_test, x6_test]).T\n",
        "    elif n==7:\n",
        "        X = np.array([x0, x_train, x2, x3, x4, x5, x6, x7]).T\n",
        "        B = np.array([0, 0, 0, 0, 0, 0, 0, 0])\n",
        "        X_test = np.array([x0_test, x_test, x2_test, x3_test, x4_test, x5_test, x6_test, x7_test]).T\n",
        "    elif n==8:\n",
        "        X = np.array([x0, x_train, x2, x3, x4, x5, x6, x7, x8]).T\n",
        "        B = np.array([0, 0, 0, 0, 0, 0, 0, 0, 0])\n",
        "        X_test = np.array([x0_test, x_test, x2_test, x3_test, x4_test, x5_test, x6_test, x7_test, x8_test]).T\n",
        "    elif n==9:\n",
        "        X = np.array([x0, x_train, x2, x3, x4, x5, x6, x7, x8, x9]).T\n",
        "        B = np.array([0, 0, 0, 0, 0, 0, 0, 0, 0, 0])\n",
        "        X_test = np.array([x0_test, x_test, x2_test, x3_test, x4_test, x5_test, x6_test, x7_test, x8_test, x9_test]).T   \n",
        "    return X, B, X_test"
      ],
      "execution_count": null,
      "outputs": []
    },
    {
      "cell_type": "markdown",
      "metadata": {
        "id": "twiTphBYuFt7"
      },
      "source": [
        "N = 4"
      ]
    },
    {
      "cell_type": "code",
      "metadata": {
        "id": "CWuIcivZuJce"
      },
      "source": [
        "\n",
        "N = 4\n",
        "X, B, X_test = parameterX_n(N)\n",
        "Y = y_train\n",
        "alpha = 0.1\n",
        "\n",
        "#Training and Training Error\n",
        "newB, cost_history = gradient_descent(X, Y, B, alpha, 100000)  # 100000 Iterations\n",
        "train_error.append(cost_history[-1])\n",
        "\n",
        "updated_B = newB\n",
        "#Test Error\n",
        "test_error.append(cost_function(X_test, y_test, newB))"
      ],
      "execution_count": null,
      "outputs": []
    },
    {
      "cell_type": "markdown",
      "metadata": {
        "id": "454lYHl2uNpI"
      },
      "source": [
        "N = 100"
      ]
    },
    {
      "cell_type": "code",
      "metadata": {
        "colab": {
          "base_uri": "https://localhost:8080/"
        },
        "id": "0gD3QT-quPQQ",
        "outputId": "a8ff49ef-5e1e-490c-fee4-573037f93835"
      },
      "source": [
        "x1 = []\n",
        "y = []\n",
        "n = 100\n",
        "for i in range(n):\n",
        "    x1.append(random.uniform(0, 1))   \n",
        "for i in range(n):\n",
        "    noise = np.random.normal(scale= 0.3)\n",
        "#     print(noise)\n",
        "    temp = noise + math.sin(2*math.pi*x1[i])\n",
        "    y.append(temp) \n",
        "# for i in range(n):    \n",
        "#     print(\"(\", x[i],\", \" ,y[i], \")\")\n",
        "\n",
        "x_train, x_test, y_train, y_test = train_test_split(x1,y,test_size = 0.2, random_state = 42)\n",
        "x2 = []\n",
        "x3 = []\n",
        "x4 = []\n",
        "x5 = []\n",
        "x6 = []\n",
        "x7 = []\n",
        "x8 = []\n",
        "x9 = []\n",
        "n1 = int(0.8*n)\n",
        "n2 = int(0.2*n)\n",
        "for i in range(n1):\n",
        "    x2.append(x_train[i]*x_train[i])\n",
        "    x3.append(x2[i]*x_train[i])\n",
        "    x4.append(x3[i]*x_train[i])\n",
        "    x5.append(x4[i]*x_train[i])\n",
        "    x6.append(x5[i]*x_train[i])\n",
        "    x7.append(x6[i]*x_train[i])\n",
        "    x8.append(x7[i]*x_train[i])\n",
        "    x9.append(x8[i]*x_train[i])\n",
        "    \n",
        "x2_test = []\n",
        "x3_test = []\n",
        "x4_test = []\n",
        "x5_test = []\n",
        "x6_test = []\n",
        "x7_test = []\n",
        "x8_test = []\n",
        "x9_test = []\n",
        "for i in range(n2):\n",
        "    x2_test.append(x_test[i]*x_test[i])\n",
        "    x3_test.append(x2_test[i]*x_test[i])\n",
        "    x4_test.append(x3_test[i]*x_test[i])\n",
        "    x5_test.append(x4_test[i]*x_test[i])\n",
        "    x6_test.append(x5_test[i]*x_test[i])\n",
        "    x7_test.append(x6_test[i]*x_test[i])\n",
        "    x8_test.append(x7_test[i]*x_test[i])\n",
        "    x9_test.append(x8_test[i]*x_test[i])\n",
        "\n",
        "print(x_train[0], x2[0], x3[0], x4[0], x5[0], x6[0])\n",
        "\n",
        "N = 4\n",
        "X, B, X_test = parameterX_n(N)\n",
        "Y = y_train\n",
        "alpha = 0.1\n",
        "\n",
        "#Training and Training Error\n",
        "newB, cost_history = gradient_descent(X, Y, B, alpha, 100000)  # 100000 Iterations\n",
        "train_error.append(cost_history[-1])\n",
        "\n",
        "updated_B = newB\n",
        "#Test Error\n",
        "test_error.append(cost_function(X_test, y_test, newB))"
      ],
      "execution_count": null,
      "outputs": [
        {
          "output_type": "stream",
          "text": [
            "0.9636716096198383 0.9286629711872901 0.8949261402383974 0.8624149140544056 0.8310847683869637 0.8008927964819959\n"
          ],
          "name": "stdout"
        }
      ]
    },
    {
      "cell_type": "markdown",
      "metadata": {
        "id": "olCIzW5CuSLy"
      },
      "source": [
        "N = 1000"
      ]
    },
    {
      "cell_type": "code",
      "metadata": {
        "colab": {
          "base_uri": "https://localhost:8080/"
        },
        "id": "-nrsyLpduXuC",
        "outputId": "408210a2-4681-4d05-ae96-229efc688e0b"
      },
      "source": [
        "x1 = []\n",
        "y = []\n",
        "n = 1000\n",
        "for i in range(n):\n",
        "    x1.append(random.uniform(0, 1))   \n",
        "for i in range(n):\n",
        "    noise = np.random.normal(scale= 0.3)\n",
        "#     print(noise)\n",
        "    temp = noise + math.sin(2*math.pi*x1[i])\n",
        "    y.append(temp) \n",
        "# for i in range(n):    \n",
        "#     print(\"(\", x[i],\", \" ,y[i], \")\")\n",
        "x_train, x_test, y_train, y_test = train_test_split(x1,y,test_size = 0.2, random_state = 42)\n",
        "x2 = []\n",
        "x3 = []\n",
        "x4 = []\n",
        "x5 = []\n",
        "x6 = []\n",
        "x7 = []\n",
        "x8 = []\n",
        "x9 = []\n",
        "n1 = int(0.8*n)\n",
        "n2 = int(0.2*n)\n",
        "for i in range(n1):\n",
        "    x2.append(x_train[i]*x_train[i])\n",
        "    x3.append(x2[i]*x_train[i])\n",
        "    x4.append(x3[i]*x_train[i])\n",
        "    x5.append(x4[i]*x_train[i])\n",
        "    x6.append(x5[i]*x_train[i])\n",
        "    x7.append(x6[i]*x_train[i])\n",
        "    x8.append(x7[i]*x_train[i])\n",
        "    x9.append(x8[i]*x_train[i])\n",
        "    \n",
        "x2_test = []\n",
        "x3_test = []\n",
        "x4_test = []\n",
        "x5_test = []\n",
        "x6_test = []\n",
        "x7_test = []\n",
        "x8_test = []\n",
        "x9_test = []\n",
        "for i in range(n2):\n",
        "    x2_test.append(x_test[i]*x_test[i])\n",
        "    x3_test.append(x2_test[i]*x_test[i])\n",
        "    x4_test.append(x3_test[i]*x_test[i])\n",
        "    x5_test.append(x4_test[i]*x_test[i])\n",
        "    x6_test.append(x5_test[i]*x_test[i])\n",
        "    x7_test.append(x6_test[i]*x_test[i])\n",
        "    x8_test.append(x7_test[i]*x_test[i])\n",
        "    x9_test.append(x8_test[i]*x_test[i])\n",
        "\n",
        "print(x_train[0], x2[0], x3[0], x4[0], x5[0], x6[0])\n",
        "\n",
        "N = 4\n",
        "X, B, X_test = parameterX_n(N)\n",
        "Y = y_train\n",
        "alpha = 0.1\n",
        "\n",
        "#Training and Training Error\n",
        "newB, cost_history = gradient_descent(X, Y, B, alpha, 100000)  # 100000 Iterations\n",
        "train_error.append(cost_history[-1])\n",
        "\n",
        "updated_B = newB\n",
        "#Test Error\n",
        "test_error.append(cost_function(X_test, y_test, newB))"
      ],
      "execution_count": null,
      "outputs": [
        {
          "output_type": "stream",
          "text": [
            "0.9073426876762933 0.8232707528796396 0.7469886976030977 0.6777747325470086 0.6149739474682837 0.5579921143467722\n"
          ],
          "name": "stdout"
        }
      ]
    },
    {
      "cell_type": "markdown",
      "metadata": {
        "id": "nNiZKOv1uaPt"
      },
      "source": [
        "N = 10000"
      ]
    },
    {
      "cell_type": "code",
      "metadata": {
        "colab": {
          "base_uri": "https://localhost:8080/"
        },
        "id": "LpfmxE6zucTe",
        "outputId": "80d090bf-482e-461d-8cec-99a4edfafa52"
      },
      "source": [
        "x1 = []\n",
        "y = []\n",
        "n = 10000\n",
        "for i in range(n):\n",
        "    x1.append(random.uniform(0, 1))   \n",
        "for i in range(n):\n",
        "    noise = np.random.normal(scale= 0.3)\n",
        "#     print(noise)\n",
        "    temp = noise + math.sin(2*math.pi*x1[i])\n",
        "    y.append(temp) \n",
        "# for i in range(n):    \n",
        "#     print(\"(\", x[i],\", \" ,y[i], \")\")\n",
        "x_train, x_test, y_train, y_test = train_test_split(x1,y,test_size = 0.2, random_state = 42)\n",
        "x2 = []\n",
        "x3 = []\n",
        "x4 = []\n",
        "x5 = []\n",
        "x6 = []\n",
        "x7 = []\n",
        "x8 = []\n",
        "x9 = []\n",
        "n1 = int(0.8*n)\n",
        "n2 = int(0.2*n)\n",
        "for i in range(n1):\n",
        "    x2.append(x_train[i]*x_train[i])\n",
        "    x3.append(x2[i]*x_train[i])\n",
        "    x4.append(x3[i]*x_train[i])\n",
        "    x5.append(x4[i]*x_train[i])\n",
        "    x6.append(x5[i]*x_train[i])\n",
        "    x7.append(x6[i]*x_train[i])\n",
        "    x8.append(x7[i]*x_train[i])\n",
        "    x9.append(x8[i]*x_train[i])\n",
        "    \n",
        "x2_test = []\n",
        "x3_test = []\n",
        "x4_test = []\n",
        "x5_test = []\n",
        "x6_test = []\n",
        "x7_test = []\n",
        "x8_test = []\n",
        "x9_test = []\n",
        "for i in range(n2):\n",
        "    x2_test.append(x_test[i]*x_test[i])\n",
        "    x3_test.append(x2_test[i]*x_test[i])\n",
        "    x4_test.append(x3_test[i]*x_test[i])\n",
        "    x5_test.append(x4_test[i]*x_test[i])\n",
        "    x6_test.append(x5_test[i]*x_test[i])\n",
        "    x7_test.append(x6_test[i]*x_test[i])\n",
        "    x8_test.append(x7_test[i]*x_test[i])\n",
        "    x9_test.append(x8_test[i]*x_test[i])\n",
        "\n",
        "print(x_train[0], x2[0], x3[0], x4[0], x5[0], x6[0])\n",
        "N = 4\n",
        "X, B, X_test = parameterX_n(N)\n",
        "Y = y_train\n",
        "alpha = 0.1\n",
        "\n",
        "#Training and Training Error\n",
        "newB, cost_history = gradient_descent(X, Y, B, alpha, 100000)  # 100000 Iterations\n",
        "train_error.append(cost_history[-1])\n",
        "\n",
        "updated_B = newB\n",
        "#Test Error\n",
        "test_error.append(cost_function(X_test, y_test, newB))"
      ],
      "execution_count": null,
      "outputs": [
        {
          "output_type": "stream",
          "text": [
            "0.7853072494083552 0.6167074759733165 0.4843048516461745 0.3803281109213788 0.2986744226603438 0.23455118932802307\n"
          ],
          "name": "stdout"
        }
      ]
    },
    {
      "cell_type": "code",
      "metadata": {
        "colab": {
          "base_uri": "https://localhost:8080/",
          "height": 299
        },
        "id": "S74iIxKcukOc",
        "outputId": "ef1935d6-5067-4b47-e446-bdaec75ea416"
      },
      "source": [
        "import pylab\n",
        "X_N = [10,100,1000,10000]\n",
        "fig = plt.figure()\n",
        "ax = fig.add_subplot(111)\n",
        "plt.plot(X_N,train_error, 'b', label='Train Error')\n",
        "plt.plot(X_N,test_error, 'r', label='Test Error')\n",
        "plt.scatter(X_N,train_error)\n",
        "plt.scatter(X_N,test_error)\n",
        "plt.title('Error variation with size of dataset')\n",
        "plt.ylabel('Error')\n",
        "plt.xlabel('Size of dataset')\n",
        "plt.legend()\n",
        "plt.grid()\n",
        "ax.set_xscale('log')\n",
        "# plt.xticks(np.arange(1, 5, step=1))\n",
        "plt.show()\n"
      ],
      "execution_count": null,
      "outputs": [
        {
          "output_type": "display_data",
          "data": {
            "image/png": "[encoded data removed]",
            "text/plain": [
              "<Figure size 432x288 with 1 Axes>"
            ]
          },
          "metadata": {
            "tags": [],
            "needs_background": "light"
          }
        }
      ]
    }
  ]
}